{
 "cells": [
  {
   "cell_type": "markdown",
   "id": "dce25b1d-ee39-4e29-b076-a2cb5e03e907",
   "metadata": {},
   "source": [
    "# Is the life expectancy greater in developed countries compared to developing countries?\n",
    "Arial Chen\\\n",
    "Emily Ahn\\\n",
    "Karina Jhingan\\\n",
    "Zhekai Zhu\n",
    "\n",
    "----------------------"
   ]
  },
  {
   "cell_type": "markdown",
   "id": "1f16913e-5774-4318-9110-053491eb280a",
   "metadata": {},
   "source": [
    "# Introduction\n",
    "A country's developed/developing status is mainly based on GDP and living standards. To look at an example of how a country's status may affect its life expectancy: Ethiopia (a developing country) and the United States (a developed country). By comparing the living standards between Ethiopia and the US, Freeman (2020) finds out that the latter has longer life expectancy due to various factors like community-based health strategies, improving access to safe water, female education and gender empowerment, and so on. There is another view that deems that with the improvement of modern technology, the impact on mortality has been overstated for earlier periods (Preston, 1975). This raises the question, is there a difference in life expectancy between developed and developing countries, if so is it significant? The random variable is life expectancy, the location parameter is mean, and the scale parameter is interquartile range. Our population is all countries in the past century(1922-2022), our dataset, provided by the WHO, contains a random sample of annual data observations from 2000-2015 of 193 countries. Each observation contains information on the country and year as well as socioeconomic (government spending, GDP, schooling, alcohol use) and health (BMI, immunizations, diseases) factors."
   ]
  },
  {
   "cell_type": "markdown",
   "id": "4b5ac278-d513-4037-9dbf-7594f402da6e",
   "metadata": {},
   "source": [
    "# Preliminary Results"
   ]
  },
  {
   "cell_type": "code",
   "execution_count": 20,
   "id": "b1f2a5d4-cac1-49cf-bb58-10a4baafdc96",
   "metadata": {},
   "outputs": [],
   "source": [
    "#Package needed in the proposal\n",
    "\n",
    "library(cowplot)\n",
    "library(digest)\n",
    "library(infer)\n",
    "library(repr)\n",
    "library(tidyverse)\n",
    "library(dplyr)\n",
    "# library(datateachr)\n",
    "library(broom)"
   ]
  },
  {
   "cell_type": "markdown",
   "id": "c58912c3-87a2-4325-aa97-ac9443d53f48",
   "metadata": {},
   "source": [
    "#### Load dataset"
   ]
  },
  {
   "cell_type": "code",
   "execution_count": 21,
   "id": "5cfa28a0-a089-40ea-893d-90109655d3a7",
   "metadata": {},
   "outputs": [],
   "source": [
    "#Loading data from the Internet\n",
    "\n",
    "life_expectancy_df <- read.csv(file = 'https://raw.githubusercontent.com/eahn01/stat201-group25/main/data/life-expectancy.csv')"
   ]
  },
  {
   "cell_type": "markdown",
   "id": "b9a882f8-44b2-4222-a50f-bb07951eceb0",
   "metadata": {},
   "source": [
    "#### Raw dataset"
   ]
  },
  {
   "cell_type": "code",
   "execution_count": 22,
   "id": "b307f2ad-f78b-4c77-8a59-9a469cd1c52a",
   "metadata": {},
   "outputs": [
    {
     "data": {
      "text/html": [
       "<table class=\"dataframe\">\n",
       "<caption>A data.frame: 6 × 22</caption>\n",
       "<thead>\n",
       "\t<tr><th></th><th scope=col>Country</th><th scope=col>Year</th><th scope=col>Status</th><th scope=col>Life.expectancy</th><th scope=col>Adult.Mortality</th><th scope=col>infant.deaths</th><th scope=col>Alcohol</th><th scope=col>percentage.expenditure</th><th scope=col>Hepatitis.B</th><th scope=col>Measles</th><th scope=col>...</th><th scope=col>Polio</th><th scope=col>Total.expenditure</th><th scope=col>Diphtheria</th><th scope=col>HIV.AIDS</th><th scope=col>GDP</th><th scope=col>Population</th><th scope=col>thinness..1.19.years</th><th scope=col>thinness.5.9.years</th><th scope=col>Income.composition.of.resources</th><th scope=col>Schooling</th></tr>\n",
       "\t<tr><th></th><th scope=col>&lt;chr&gt;</th><th scope=col>&lt;int&gt;</th><th scope=col>&lt;chr&gt;</th><th scope=col>&lt;dbl&gt;</th><th scope=col>&lt;int&gt;</th><th scope=col>&lt;int&gt;</th><th scope=col>&lt;dbl&gt;</th><th scope=col>&lt;dbl&gt;</th><th scope=col>&lt;int&gt;</th><th scope=col>&lt;int&gt;</th><th scope=col>...</th><th scope=col>&lt;int&gt;</th><th scope=col>&lt;dbl&gt;</th><th scope=col>&lt;int&gt;</th><th scope=col>&lt;dbl&gt;</th><th scope=col>&lt;dbl&gt;</th><th scope=col>&lt;dbl&gt;</th><th scope=col>&lt;dbl&gt;</th><th scope=col>&lt;dbl&gt;</th><th scope=col>&lt;dbl&gt;</th><th scope=col>&lt;dbl&gt;</th></tr>\n",
       "</thead>\n",
       "<tbody>\n",
       "\t<tr><th scope=row>1</th><td>Afghanistan</td><td>2015</td><td>Developing</td><td>65.0</td><td>263</td><td>62</td><td>0.01</td><td>71.279624</td><td>65</td><td>1154</td><td>...</td><td> 6</td><td>8.16</td><td>65</td><td>0.1</td><td>584.25921</td><td>33736494</td><td>17.2</td><td>17.3</td><td>0.479</td><td>10.1</td></tr>\n",
       "\t<tr><th scope=row>2</th><td>Afghanistan</td><td>2014</td><td>Developing</td><td>59.9</td><td>271</td><td>64</td><td>0.01</td><td>73.523582</td><td>62</td><td> 492</td><td>...</td><td>58</td><td>8.18</td><td>62</td><td>0.1</td><td>612.69651</td><td>  327582</td><td>17.5</td><td>17.5</td><td>0.476</td><td>10.0</td></tr>\n",
       "\t<tr><th scope=row>3</th><td>Afghanistan</td><td>2013</td><td>Developing</td><td>59.9</td><td>268</td><td>66</td><td>0.01</td><td>73.219243</td><td>64</td><td> 430</td><td>...</td><td>62</td><td>8.13</td><td>64</td><td>0.1</td><td>631.74498</td><td>31731688</td><td>17.7</td><td>17.7</td><td>0.470</td><td> 9.9</td></tr>\n",
       "\t<tr><th scope=row>4</th><td>Afghanistan</td><td>2012</td><td>Developing</td><td>59.5</td><td>272</td><td>69</td><td>0.01</td><td>78.184215</td><td>67</td><td>2787</td><td>...</td><td>67</td><td>8.52</td><td>67</td><td>0.1</td><td>669.95900</td><td> 3696958</td><td>17.9</td><td>18.0</td><td>0.463</td><td> 9.8</td></tr>\n",
       "\t<tr><th scope=row>5</th><td>Afghanistan</td><td>2011</td><td>Developing</td><td>59.2</td><td>275</td><td>71</td><td>0.01</td><td> 7.097109</td><td>68</td><td>3013</td><td>...</td><td>68</td><td>7.87</td><td>68</td><td>0.1</td><td> 63.53723</td><td> 2978599</td><td>18.2</td><td>18.2</td><td>0.454</td><td> 9.5</td></tr>\n",
       "\t<tr><th scope=row>6</th><td>Afghanistan</td><td>2010</td><td>Developing</td><td>58.8</td><td>279</td><td>74</td><td>0.01</td><td>79.679367</td><td>66</td><td>1989</td><td>...</td><td>66</td><td>9.20</td><td>66</td><td>0.1</td><td>553.32894</td><td> 2883167</td><td>18.4</td><td>18.4</td><td>0.448</td><td> 9.2</td></tr>\n",
       "</tbody>\n",
       "</table>\n"
      ],
      "text/latex": [
       "A data.frame: 6 × 22\n",
       "\\begin{tabular}{r|lllllllllllllllllllll}\n",
       "  & Country & Year & Status & Life.expectancy & Adult.Mortality & infant.deaths & Alcohol & percentage.expenditure & Hepatitis.B & Measles & ... & Polio & Total.expenditure & Diphtheria & HIV.AIDS & GDP & Population & thinness..1.19.years & thinness.5.9.years & Income.composition.of.resources & Schooling\\\\\n",
       "  & <chr> & <int> & <chr> & <dbl> & <int> & <int> & <dbl> & <dbl> & <int> & <int> & ... & <int> & <dbl> & <int> & <dbl> & <dbl> & <dbl> & <dbl> & <dbl> & <dbl> & <dbl>\\\\\n",
       "\\hline\n",
       "\t1 & Afghanistan & 2015 & Developing & 65.0 & 263 & 62 & 0.01 & 71.279624 & 65 & 1154 & ... &  6 & 8.16 & 65 & 0.1 & 584.25921 & 33736494 & 17.2 & 17.3 & 0.479 & 10.1\\\\\n",
       "\t2 & Afghanistan & 2014 & Developing & 59.9 & 271 & 64 & 0.01 & 73.523582 & 62 &  492 & ... & 58 & 8.18 & 62 & 0.1 & 612.69651 &   327582 & 17.5 & 17.5 & 0.476 & 10.0\\\\\n",
       "\t3 & Afghanistan & 2013 & Developing & 59.9 & 268 & 66 & 0.01 & 73.219243 & 64 &  430 & ... & 62 & 8.13 & 64 & 0.1 & 631.74498 & 31731688 & 17.7 & 17.7 & 0.470 &  9.9\\\\\n",
       "\t4 & Afghanistan & 2012 & Developing & 59.5 & 272 & 69 & 0.01 & 78.184215 & 67 & 2787 & ... & 67 & 8.52 & 67 & 0.1 & 669.95900 &  3696958 & 17.9 & 18.0 & 0.463 &  9.8\\\\\n",
       "\t5 & Afghanistan & 2011 & Developing & 59.2 & 275 & 71 & 0.01 &  7.097109 & 68 & 3013 & ... & 68 & 7.87 & 68 & 0.1 &  63.53723 &  2978599 & 18.2 & 18.2 & 0.454 &  9.5\\\\\n",
       "\t6 & Afghanistan & 2010 & Developing & 58.8 & 279 & 74 & 0.01 & 79.679367 & 66 & 1989 & ... & 66 & 9.20 & 66 & 0.1 & 553.32894 &  2883167 & 18.4 & 18.4 & 0.448 &  9.2\\\\\n",
       "\\end{tabular}\n"
      ],
      "text/markdown": [
       "\n",
       "A data.frame: 6 × 22\n",
       "\n",
       "| <!--/--> | Country &lt;chr&gt; | Year &lt;int&gt; | Status &lt;chr&gt; | Life.expectancy &lt;dbl&gt; | Adult.Mortality &lt;int&gt; | infant.deaths &lt;int&gt; | Alcohol &lt;dbl&gt; | percentage.expenditure &lt;dbl&gt; | Hepatitis.B &lt;int&gt; | Measles &lt;int&gt; | ... ... | Polio &lt;int&gt; | Total.expenditure &lt;dbl&gt; | Diphtheria &lt;int&gt; | HIV.AIDS &lt;dbl&gt; | GDP &lt;dbl&gt; | Population &lt;dbl&gt; | thinness..1.19.years &lt;dbl&gt; | thinness.5.9.years &lt;dbl&gt; | Income.composition.of.resources &lt;dbl&gt; | Schooling &lt;dbl&gt; |\n",
       "|---|---|---|---|---|---|---|---|---|---|---|---|---|---|---|---|---|---|---|---|---|---|\n",
       "| 1 | Afghanistan | 2015 | Developing | 65.0 | 263 | 62 | 0.01 | 71.279624 | 65 | 1154 | ... |  6 | 8.16 | 65 | 0.1 | 584.25921 | 33736494 | 17.2 | 17.3 | 0.479 | 10.1 |\n",
       "| 2 | Afghanistan | 2014 | Developing | 59.9 | 271 | 64 | 0.01 | 73.523582 | 62 |  492 | ... | 58 | 8.18 | 62 | 0.1 | 612.69651 |   327582 | 17.5 | 17.5 | 0.476 | 10.0 |\n",
       "| 3 | Afghanistan | 2013 | Developing | 59.9 | 268 | 66 | 0.01 | 73.219243 | 64 |  430 | ... | 62 | 8.13 | 64 | 0.1 | 631.74498 | 31731688 | 17.7 | 17.7 | 0.470 |  9.9 |\n",
       "| 4 | Afghanistan | 2012 | Developing | 59.5 | 272 | 69 | 0.01 | 78.184215 | 67 | 2787 | ... | 67 | 8.52 | 67 | 0.1 | 669.95900 |  3696958 | 17.9 | 18.0 | 0.463 |  9.8 |\n",
       "| 5 | Afghanistan | 2011 | Developing | 59.2 | 275 | 71 | 0.01 |  7.097109 | 68 | 3013 | ... | 68 | 7.87 | 68 | 0.1 |  63.53723 |  2978599 | 18.2 | 18.2 | 0.454 |  9.5 |\n",
       "| 6 | Afghanistan | 2010 | Developing | 58.8 | 279 | 74 | 0.01 | 79.679367 | 66 | 1989 | ... | 66 | 9.20 | 66 | 0.1 | 553.32894 |  2883167 | 18.4 | 18.4 | 0.448 |  9.2 |\n",
       "\n"
      ],
      "text/plain": [
       "  Country     Year Status     Life.expectancy Adult.Mortality infant.deaths\n",
       "1 Afghanistan 2015 Developing 65.0            263             62           \n",
       "2 Afghanistan 2014 Developing 59.9            271             64           \n",
       "3 Afghanistan 2013 Developing 59.9            268             66           \n",
       "4 Afghanistan 2012 Developing 59.5            272             69           \n",
       "5 Afghanistan 2011 Developing 59.2            275             71           \n",
       "6 Afghanistan 2010 Developing 58.8            279             74           \n",
       "  Alcohol percentage.expenditure Hepatitis.B Measles ... Polio\n",
       "1 0.01    71.279624              65          1154    ...  6   \n",
       "2 0.01    73.523582              62           492    ... 58   \n",
       "3 0.01    73.219243              64           430    ... 62   \n",
       "4 0.01    78.184215              67          2787    ... 67   \n",
       "5 0.01     7.097109              68          3013    ... 68   \n",
       "6 0.01    79.679367              66          1989    ... 66   \n",
       "  Total.expenditure Diphtheria HIV.AIDS GDP       Population\n",
       "1 8.16              65         0.1      584.25921 33736494  \n",
       "2 8.18              62         0.1      612.69651   327582  \n",
       "3 8.13              64         0.1      631.74498 31731688  \n",
       "4 8.52              67         0.1      669.95900  3696958  \n",
       "5 7.87              68         0.1       63.53723  2978599  \n",
       "6 9.20              66         0.1      553.32894  2883167  \n",
       "  thinness..1.19.years thinness.5.9.years Income.composition.of.resources\n",
       "1 17.2                 17.3               0.479                          \n",
       "2 17.5                 17.5               0.476                          \n",
       "3 17.7                 17.7               0.470                          \n",
       "4 17.9                 18.0               0.463                          \n",
       "5 18.2                 18.2               0.454                          \n",
       "6 18.4                 18.4               0.448                          \n",
       "  Schooling\n",
       "1 10.1     \n",
       "2 10.0     \n",
       "3  9.9     \n",
       "4  9.8     \n",
       "5  9.5     \n",
       "6  9.2     "
      ]
     },
     "metadata": {},
     "output_type": "display_data"
    }
   ],
   "source": [
    "#Overview of the dataframe\n",
    "\n",
    "head(life_expectancy_df)"
   ]
  },
  {
   "cell_type": "markdown",
   "id": "3a977cf7-1a57-4c07-b24d-e469eb69cb73",
   "metadata": {},
   "source": [
    "Table 1: Raw dataset"
   ]
  },
  {
   "cell_type": "markdown",
   "id": "9b83c39f-a8e8-4dc3-984e-62e19ee15bf6",
   "metadata": {},
   "source": [
    "#### Clean and wrangle data\n",
    "The original data frame is in tidy format, so we only need to select the relevant columns, which are country, year, status, life expectancy. Then, we also remove the N\\A values since N\\A values are useless in statistical inference."
   ]
  },
  {
   "cell_type": "code",
   "execution_count": 23,
   "id": "c05747e3-df6f-40e5-ae9e-dcfa9b40f9f8",
   "metadata": {},
   "outputs": [],
   "source": [
    "# Dataframe of developing countries and developed countries, with columns needed, N/A removed.\n",
    "\n",
    "life_tidy <- life_expectancy_df%>%\n",
    "                 filter(!is.na(Life.expectancy))%>%\n",
    "                 select(Country,Year,Status, Life.expectancy)"
   ]
  },
  {
   "cell_type": "markdown",
   "id": "e0c67b9e-9fe2-46b9-bc0a-339ed9077eaa",
   "metadata": {},
   "source": [
    "#### Final dataframe"
   ]
  },
  {
   "cell_type": "code",
   "execution_count": 24,
   "id": "6c50acf2-de27-404f-9846-684567beb9a1",
   "metadata": {},
   "outputs": [
    {
     "data": {
      "text/html": [
       "<table class=\"dataframe\">\n",
       "<caption>A data.frame: 6 × 4</caption>\n",
       "<thead>\n",
       "\t<tr><th></th><th scope=col>Country</th><th scope=col>Year</th><th scope=col>Status</th><th scope=col>Life.expectancy</th></tr>\n",
       "\t<tr><th></th><th scope=col>&lt;chr&gt;</th><th scope=col>&lt;int&gt;</th><th scope=col>&lt;chr&gt;</th><th scope=col>&lt;dbl&gt;</th></tr>\n",
       "</thead>\n",
       "<tbody>\n",
       "\t<tr><th scope=row>1</th><td>Afghanistan</td><td>2015</td><td>Developing</td><td>65.0</td></tr>\n",
       "\t<tr><th scope=row>2</th><td>Afghanistan</td><td>2014</td><td>Developing</td><td>59.9</td></tr>\n",
       "\t<tr><th scope=row>3</th><td>Afghanistan</td><td>2013</td><td>Developing</td><td>59.9</td></tr>\n",
       "\t<tr><th scope=row>4</th><td>Afghanistan</td><td>2012</td><td>Developing</td><td>59.5</td></tr>\n",
       "\t<tr><th scope=row>5</th><td>Afghanistan</td><td>2011</td><td>Developing</td><td>59.2</td></tr>\n",
       "\t<tr><th scope=row>6</th><td>Afghanistan</td><td>2010</td><td>Developing</td><td>58.8</td></tr>\n",
       "</tbody>\n",
       "</table>\n"
      ],
      "text/latex": [
       "A data.frame: 6 × 4\n",
       "\\begin{tabular}{r|llll}\n",
       "  & Country & Year & Status & Life.expectancy\\\\\n",
       "  & <chr> & <int> & <chr> & <dbl>\\\\\n",
       "\\hline\n",
       "\t1 & Afghanistan & 2015 & Developing & 65.0\\\\\n",
       "\t2 & Afghanistan & 2014 & Developing & 59.9\\\\\n",
       "\t3 & Afghanistan & 2013 & Developing & 59.9\\\\\n",
       "\t4 & Afghanistan & 2012 & Developing & 59.5\\\\\n",
       "\t5 & Afghanistan & 2011 & Developing & 59.2\\\\\n",
       "\t6 & Afghanistan & 2010 & Developing & 58.8\\\\\n",
       "\\end{tabular}\n"
      ],
      "text/markdown": [
       "\n",
       "A data.frame: 6 × 4\n",
       "\n",
       "| <!--/--> | Country &lt;chr&gt; | Year &lt;int&gt; | Status &lt;chr&gt; | Life.expectancy &lt;dbl&gt; |\n",
       "|---|---|---|---|---|\n",
       "| 1 | Afghanistan | 2015 | Developing | 65.0 |\n",
       "| 2 | Afghanistan | 2014 | Developing | 59.9 |\n",
       "| 3 | Afghanistan | 2013 | Developing | 59.9 |\n",
       "| 4 | Afghanistan | 2012 | Developing | 59.5 |\n",
       "| 5 | Afghanistan | 2011 | Developing | 59.2 |\n",
       "| 6 | Afghanistan | 2010 | Developing | 58.8 |\n",
       "\n"
      ],
      "text/plain": [
       "  Country     Year Status     Life.expectancy\n",
       "1 Afghanistan 2015 Developing 65.0           \n",
       "2 Afghanistan 2014 Developing 59.9           \n",
       "3 Afghanistan 2013 Developing 59.9           \n",
       "4 Afghanistan 2012 Developing 59.5           \n",
       "5 Afghanistan 2011 Developing 59.2           \n",
       "6 Afghanistan 2010 Developing 58.8           "
      ]
     },
     "metadata": {},
     "output_type": "display_data"
    },
    {
     "data": {
      "text/html": [
       "2928"
      ],
      "text/latex": [
       "2928"
      ],
      "text/markdown": [
       "2928"
      ],
      "text/plain": [
       "[1] 2928"
      ]
     },
     "metadata": {},
     "output_type": "display_data"
    }
   ],
   "source": [
    "#Overview of the dataframe\n",
    "\n",
    "head(life_tidy)\n",
    "\n",
    "#Number of rows\n",
    "\n",
    "nrow(life_tidy)"
   ]
  },
  {
   "cell_type": "markdown",
   "id": "0b2e7c72-bd21-48bf-94a4-743d6ae6a4cf",
   "metadata": {},
   "source": [
    "Table 2: Tidy dataset"
   ]
  },
  {
   "cell_type": "markdown",
   "id": "d86e922f-f05f-4011-b074-97374031dd95",
   "metadata": {
    "tags": []
   },
   "source": [
    "#### Visualization of data\n",
    "In this part, we visualized relevant statistics. We used histograms to show the distribution of our data and box plots to show the difference between life expectancies based on the status of a country."
   ]
  },
  {
   "cell_type": "code",
   "execution_count": 25,
   "id": "f2634c86-5efc-4537-b21a-62f5f5231c88",
   "metadata": {},
   "outputs": [],
   "source": [
    "# The configurations of plots\n",
    "\n",
    "options(repr.plot.width = 15, repr.plot.height = 8.5)\n",
    "\n",
    "plot_config1 <- theme_classic() +\n",
    "                theme(plot.title = element_text(hjust = 0.5),\n",
    "                      legend.position=\"none\",\n",
    "                      panel.spacing = unit(50, \"lines\"),\n",
    "                      strip.text.x = element_text(size = 8),\n",
    "                      panel.spacing.x = unit(50, \"cm\"),\n",
    "                      text = element_text(size = 20))\n",
    "\n",
    "each_year_parameter <- c(\"2000\", \"2001\", \"2002\", \"2003\", \"2004\",\"2005\",\"2006\",\"2007\",\"2008\",\"2009\",\"2010\",\"2011\",\"2012\",\"2013\",\"2014\",\"2015\")\n",
    "\n",
    "year_labels_for_each_years<-c(\"2000\", \"2001\", \"2002\", \"2003\", \"2004\",\"2005\",\"2006\",\"2007\",\"2008\",\"2009\",\"2010\",\"2011\",\"2012\",\"2013\",\"2014\",\"2015\")\n",
    "                      \n",
    "boxplot_scale <- scale_y_continuous(breaks = seq(0, 100, 10))"
   ]
  },
  {
   "cell_type": "code",
   "execution_count": 26,
   "id": "c6c5a8dc-cef8-4a40-8c55-777d7ada2e3e",
   "metadata": {},
   "outputs": [
    {
     "data": {
      "image/png": "[encoded data removed]",
      "text/plain": [
       "plot without title"
      ]
     },
     "metadata": {
      "image/png": {
       "height": 510,
       "width": 900
      }
     },
     "output_type": "display_data"
    }
   ],
   "source": [
    "# Define a function that plots by years\n",
    "\n",
    "plot_each_year <- function(i)\n",
    "  {plot<-\n",
    "       life_tidy %>%\n",
    "       filter(Year == each_year_parameter[i])%>%\n",
    "       ggplot(aes(x = Life.expectancy)) +\n",
    "       geom_histogram(binwidth = 1) +\n",
    "       xlab(\"Life expectancy (in years)\") +\n",
    "       ylab(\"Count\") \n",
    "  \n",
    "  return(plot)}\n",
    "\n",
    "# Store the plots\n",
    "\n",
    "P2000<-plot_each_year(1)\n",
    "P2001<-plot_each_year(2)\n",
    "P2002<-plot_each_year(3)\n",
    "P2003<-plot_each_year(4)\n",
    "P2004<-plot_each_year(5)\n",
    "P2005<-plot_each_year(6)\n",
    "P2006<-plot_each_year(7)\n",
    "P2007<-plot_each_year(8)\n",
    "P2008<-plot_each_year(9)\n",
    "P2009<-plot_each_year(10)\n",
    "P2010<-plot_each_year(11)\n",
    "P2011<-plot_each_year(12)\n",
    "P2012<-plot_each_year(13)\n",
    "P2013<-plot_each_year(14)\n",
    "P2014<-plot_each_year(15)\n",
    "P2015<-plot_each_year(16)\n",
    "\n",
    "#Life expectancy distribution for all countries in each year (2000-2015)\n",
    "\n",
    "plot_grid(P2000,P2001,P2002,P2003,P2004,P2005,P2006,P2007,P2008,P2009,P2010,P2011,P2012,P2013,P2014,P2015,ncol=5,labels=year_labels_for_each_years,hjust=-3.5,label_colour = \"red\")"
   ]
  },
  {
   "cell_type": "markdown",
   "id": "2c46d1ff-83d5-488f-be41-e5d8acbe177b",
   "metadata": {},
   "source": [
    "Figure 1: Histograms of life expectancy for each year (2000-2015)"
   ]
  },
  {
   "cell_type": "code",
   "execution_count": 53,
   "id": "358ed9ae-cdf6-43dc-aee9-663f12ab0ca2",
   "metadata": {},
   "outputs": [
    {
     "data": {
      "image/png": "[encoded data removed]",
      "text/plain": [
       "plot without title"
      ]
     },
     "metadata": {
      "image/png": {
       "height": 510,
       "width": 900
      }
     },
     "output_type": "display_data"
    }
   ],
   "source": [
    "# Boxtplot for 2 country status\n",
    "\n",
    "Boxplot_Country_Status <- life_tidy %>%\n",
    "    ggplot(aes(x = Status, y = Life.expectancy, color = Status)) +\n",
    "    geom_boxplot() +\n",
    "    xlab(\"2 levels of Country Status\") +\n",
    "    ylab(\"Life expectancy (in years)\") +\n",
    "    ggtitle(\"Life expectancy based on country status\") +\n",
    "    plot_config1 +\n",
    "    boxplot_scale\n",
    "\n",
    "Boxplot_Country_Status"
   ]
  },
  {
   "cell_type": "markdown",
   "id": "9126b03a-4715-453f-ad74-a360700c92fe",
   "metadata": {},
   "source": [
    "Figure 2: Boxplots of life expectancy based on country status"
   ]
  },
  {
   "cell_type": "markdown",
   "id": "8e839c17-68b0-48e5-8f09-175b7e92dbdc",
   "metadata": {},
   "source": [
    "Below we divide the dataset into developed and developing and calculate the quantiles for information purposes to better understand how the values are distributed for each category"
   ]
  },
  {
   "cell_type": "code",
   "execution_count": 28,
   "id": "33082c8c-0266-4a12-ad58-350f78ba8c0a",
   "metadata": {},
   "outputs": [
    {
     "data": {
      "text/html": [
       "<table class=\"dataframe\">\n",
       "<caption>A data.frame: 6 × 4</caption>\n",
       "<thead>\n",
       "\t<tr><th></th><th scope=col>Country</th><th scope=col>Year</th><th scope=col>Status</th><th scope=col>Life.expectancy</th></tr>\n",
       "\t<tr><th></th><th scope=col>&lt;chr&gt;</th><th scope=col>&lt;int&gt;</th><th scope=col>&lt;chr&gt;</th><th scope=col>&lt;dbl&gt;</th></tr>\n",
       "</thead>\n",
       "<tbody>\n",
       "\t<tr><th scope=row>1</th><td>Australia</td><td>2015</td><td>Developed</td><td>82.8</td></tr>\n",
       "\t<tr><th scope=row>2</th><td>Australia</td><td>2014</td><td>Developed</td><td>82.7</td></tr>\n",
       "\t<tr><th scope=row>3</th><td>Australia</td><td>2013</td><td>Developed</td><td>82.5</td></tr>\n",
       "\t<tr><th scope=row>4</th><td>Australia</td><td>2012</td><td>Developed</td><td>82.3</td></tr>\n",
       "\t<tr><th scope=row>5</th><td>Australia</td><td>2011</td><td>Developed</td><td>82.0</td></tr>\n",
       "\t<tr><th scope=row>6</th><td>Australia</td><td>2010</td><td>Developed</td><td>81.9</td></tr>\n",
       "</tbody>\n",
       "</table>\n"
      ],
      "text/latex": [
       "A data.frame: 6 × 4\n",
       "\\begin{tabular}{r|llll}\n",
       "  & Country & Year & Status & Life.expectancy\\\\\n",
       "  & <chr> & <int> & <chr> & <dbl>\\\\\n",
       "\\hline\n",
       "\t1 & Australia & 2015 & Developed & 82.8\\\\\n",
       "\t2 & Australia & 2014 & Developed & 82.7\\\\\n",
       "\t3 & Australia & 2013 & Developed & 82.5\\\\\n",
       "\t4 & Australia & 2012 & Developed & 82.3\\\\\n",
       "\t5 & Australia & 2011 & Developed & 82.0\\\\\n",
       "\t6 & Australia & 2010 & Developed & 81.9\\\\\n",
       "\\end{tabular}\n"
      ],
      "text/markdown": [
       "\n",
       "A data.frame: 6 × 4\n",
       "\n",
       "| <!--/--> | Country &lt;chr&gt; | Year &lt;int&gt; | Status &lt;chr&gt; | Life.expectancy &lt;dbl&gt; |\n",
       "|---|---|---|---|---|\n",
       "| 1 | Australia | 2015 | Developed | 82.8 |\n",
       "| 2 | Australia | 2014 | Developed | 82.7 |\n",
       "| 3 | Australia | 2013 | Developed | 82.5 |\n",
       "| 4 | Australia | 2012 | Developed | 82.3 |\n",
       "| 5 | Australia | 2011 | Developed | 82.0 |\n",
       "| 6 | Australia | 2010 | Developed | 81.9 |\n",
       "\n"
      ],
      "text/plain": [
       "  Country   Year Status    Life.expectancy\n",
       "1 Australia 2015 Developed 82.8           \n",
       "2 Australia 2014 Developed 82.7           \n",
       "3 Australia 2013 Developed 82.5           \n",
       "4 Australia 2012 Developed 82.3           \n",
       "5 Australia 2011 Developed 82.0           \n",
       "6 Australia 2010 Developed 81.9           "
      ]
     },
     "metadata": {},
     "output_type": "display_data"
    },
    {
     "data": {
      "text/html": [
       "<table class=\"dataframe\">\n",
       "<caption>A data.frame: 6 × 4</caption>\n",
       "<thead>\n",
       "\t<tr><th></th><th scope=col>Country</th><th scope=col>Year</th><th scope=col>Status</th><th scope=col>Life.expectancy</th></tr>\n",
       "\t<tr><th></th><th scope=col>&lt;chr&gt;</th><th scope=col>&lt;int&gt;</th><th scope=col>&lt;chr&gt;</th><th scope=col>&lt;dbl&gt;</th></tr>\n",
       "</thead>\n",
       "<tbody>\n",
       "\t<tr><th scope=row>1</th><td>Afghanistan</td><td>2015</td><td>Developing</td><td>65.0</td></tr>\n",
       "\t<tr><th scope=row>2</th><td>Afghanistan</td><td>2014</td><td>Developing</td><td>59.9</td></tr>\n",
       "\t<tr><th scope=row>3</th><td>Afghanistan</td><td>2013</td><td>Developing</td><td>59.9</td></tr>\n",
       "\t<tr><th scope=row>4</th><td>Afghanistan</td><td>2012</td><td>Developing</td><td>59.5</td></tr>\n",
       "\t<tr><th scope=row>5</th><td>Afghanistan</td><td>2011</td><td>Developing</td><td>59.2</td></tr>\n",
       "\t<tr><th scope=row>6</th><td>Afghanistan</td><td>2010</td><td>Developing</td><td>58.8</td></tr>\n",
       "</tbody>\n",
       "</table>\n"
      ],
      "text/latex": [
       "A data.frame: 6 × 4\n",
       "\\begin{tabular}{r|llll}\n",
       "  & Country & Year & Status & Life.expectancy\\\\\n",
       "  & <chr> & <int> & <chr> & <dbl>\\\\\n",
       "\\hline\n",
       "\t1 & Afghanistan & 2015 & Developing & 65.0\\\\\n",
       "\t2 & Afghanistan & 2014 & Developing & 59.9\\\\\n",
       "\t3 & Afghanistan & 2013 & Developing & 59.9\\\\\n",
       "\t4 & Afghanistan & 2012 & Developing & 59.5\\\\\n",
       "\t5 & Afghanistan & 2011 & Developing & 59.2\\\\\n",
       "\t6 & Afghanistan & 2010 & Developing & 58.8\\\\\n",
       "\\end{tabular}\n"
      ],
      "text/markdown": [
       "\n",
       "A data.frame: 6 × 4\n",
       "\n",
       "| <!--/--> | Country &lt;chr&gt; | Year &lt;int&gt; | Status &lt;chr&gt; | Life.expectancy &lt;dbl&gt; |\n",
       "|---|---|---|---|---|\n",
       "| 1 | Afghanistan | 2015 | Developing | 65.0 |\n",
       "| 2 | Afghanistan | 2014 | Developing | 59.9 |\n",
       "| 3 | Afghanistan | 2013 | Developing | 59.9 |\n",
       "| 4 | Afghanistan | 2012 | Developing | 59.5 |\n",
       "| 5 | Afghanistan | 2011 | Developing | 59.2 |\n",
       "| 6 | Afghanistan | 2010 | Developing | 58.8 |\n",
       "\n"
      ],
      "text/plain": [
       "  Country     Year Status     Life.expectancy\n",
       "1 Afghanistan 2015 Developing 65.0           \n",
       "2 Afghanistan 2014 Developing 59.9           \n",
       "3 Afghanistan 2013 Developing 59.9           \n",
       "4 Afghanistan 2012 Developing 59.5           \n",
       "5 Afghanistan 2011 Developing 59.2           \n",
       "6 Afghanistan 2010 Developing 58.8           "
      ]
     },
     "metadata": {},
     "output_type": "display_data"
    },
    {
     "name": "stdout",
     "output_type": "stream",
     "text": [
      "[1] \"Quantile for developed\"\n"
     ]
    },
    {
     "data": {
      "text/html": [
       "<style>\n",
       ".dl-inline {width: auto; margin:0; padding: 0}\n",
       ".dl-inline>dt, .dl-inline>dd {float: none; width: auto; display: inline-block}\n",
       ".dl-inline>dt::after {content: \":\\0020\"; padding-right: .5ex}\n",
       ".dl-inline>dt:not(:first-of-type) {padding-left: .5ex}\n",
       "</style><dl class=dl-inline><dt>0%</dt><dd>69.9</dd><dt>25%</dt><dd>76.8</dd><dt>50%</dt><dd>79.25</dd><dt>75%</dt><dd>81.7</dd><dt>100%</dt><dd>89</dd></dl>\n"
      ],
      "text/latex": [
       "\\begin{description*}\n",
       "\\item[0\\textbackslash{}\\%] 69.9\n",
       "\\item[25\\textbackslash{}\\%] 76.8\n",
       "\\item[50\\textbackslash{}\\%] 79.25\n",
       "\\item[75\\textbackslash{}\\%] 81.7\n",
       "\\item[100\\textbackslash{}\\%] 89\n",
       "\\end{description*}\n"
      ],
      "text/markdown": [
       "0%\n",
       ":   69.925%\n",
       ":   76.850%\n",
       ":   79.2575%\n",
       ":   81.7100%\n",
       ":   89\n",
       "\n"
      ],
      "text/plain": [
       "   0%   25%   50%   75%  100% \n",
       "69.90 76.80 79.25 81.70 89.00 "
      ]
     },
     "metadata": {},
     "output_type": "display_data"
    },
    {
     "name": "stdout",
     "output_type": "stream",
     "text": [
      "[1] \"Quantile for developing\"\n"
     ]
    },
    {
     "data": {
      "text/html": [
       "<style>\n",
       ".dl-inline {width: auto; margin:0; padding: 0}\n",
       ".dl-inline>dt, .dl-inline>dd {float: none; width: auto; display: inline-block}\n",
       ".dl-inline>dt::after {content: \":\\0020\"; padding-right: .5ex}\n",
       ".dl-inline>dt:not(:first-of-type) {padding-left: .5ex}\n",
       "</style><dl class=dl-inline><dt>0%</dt><dd>36.3</dd><dt>25%</dt><dd>61.1</dd><dt>50%</dt><dd>69</dd><dt>75%</dt><dd>74</dd><dt>100%</dt><dd>89</dd></dl>\n"
      ],
      "text/latex": [
       "\\begin{description*}\n",
       "\\item[0\\textbackslash{}\\%] 36.3\n",
       "\\item[25\\textbackslash{}\\%] 61.1\n",
       "\\item[50\\textbackslash{}\\%] 69\n",
       "\\item[75\\textbackslash{}\\%] 74\n",
       "\\item[100\\textbackslash{}\\%] 89\n",
       "\\end{description*}\n"
      ],
      "text/markdown": [
       "0%\n",
       ":   36.325%\n",
       ":   61.150%\n",
       ":   6975%\n",
       ":   74100%\n",
       ":   89\n",
       "\n"
      ],
      "text/plain": [
       "  0%  25%  50%  75% 100% \n",
       "36.3 61.1 69.0 74.0 89.0 "
      ]
     },
     "metadata": {},
     "output_type": "display_data"
    }
   ],
   "source": [
    "# Divide the dataset into 2 categories\n",
    "\n",
    "life_developed<-life_tidy %>%\n",
    "             filter(Status==\"Developed\")\n",
    "\n",
    "life_developing<-life_tidy %>%\n",
    "             filter(Status==\"Developing\")\n",
    "\n",
    "head(life_developed)\n",
    "head(life_developing)\n",
    "\n",
    "# Calculate the quantiles for each category\n",
    "\n",
    "print(\"Quantile for developed\")\n",
    "quantile(life_developed$Life.expectancy)\n",
    "\n",
    "print(\"Quantile for developing\")\n",
    "quantile(life_developing$Life.expectancy)"
   ]
  },
  {
   "cell_type": "markdown",
   "id": "85d61e68-7416-4b6a-8109-bd40d6c7ddff",
   "metadata": {},
   "source": [
    "Table 3: Divided dataset"
   ]
  },
  {
   "cell_type": "code",
   "execution_count": 29,
   "id": "e43faa97-164c-4ae9-8f0e-036a90bf3a22",
   "metadata": {},
   "outputs": [
    {
     "data": {
      "image/png": "[encoded data removed]",
      "text/plain": [
       "plot without title"
      ]
     },
     "metadata": {
      "image/png": {
       "height": 510,
       "width": 900
      }
     },
     "output_type": "display_data"
    }
   ],
   "source": [
    "# The sample distribution for each country status\n",
    "\n",
    "developed_sample_dis<-life_developed%>%\n",
    "             ggplot(aes(x = Life.expectancy)) +\n",
    "             geom_histogram(binwidth = 1) +\n",
    "             xlab(\"Life expectancy (in years)\") +\n",
    "             ylab(\"Count\") +\n",
    "             ggtitle(\"Sample distribution (developed)\") +\n",
    "             theme(text=element_text(size=16))\n",
    "\n",
    "\n",
    "developing_sample_dis<-life_developing%>%\n",
    "             ggplot(aes(x = Life.expectancy)) +\n",
    "             geom_histogram(binwidth = 3) +\n",
    "             xlab(\"Life expectancy (in years)\") +\n",
    "             ylab(\"Count\") +\n",
    "             ggtitle(\"Sample distribution (developing)\") +\n",
    "             theme(text=element_text(size=16))\n",
    "\n",
    "plot_grid(developed_sample_dis,developing_sample_dis)"
   ]
  },
  {
   "cell_type": "markdown",
   "id": "85eb6ea4-3ab9-47c9-a53c-e1bfd4f0c6e4",
   "metadata": {},
   "source": [
    "Figure 3: Sample distributions of life expectancy for each category of country status"
   ]
  },
  {
   "cell_type": "markdown",
   "id": "9d77437a-fbd2-44db-bc16-14e33ff0dcc7",
   "metadata": {},
   "source": [
    "Both of the distributions in Figure 3 are unimodal. The sample distribution for developed countries is a relatively normal distribution; however, the distribution for developing countries is right-skewed so we will need to conduct bootstrapping later in order to end up with a normal distribution."
   ]
  },
  {
   "cell_type": "markdown",
   "id": "3a2b3b9a-0967-4603-9c6e-c0e3286898d9",
   "metadata": {},
   "source": [
    "#### Statistics of the Dataset"
   ]
  },
  {
   "cell_type": "code",
   "execution_count": 30,
   "id": "8c46daf0-44b7-4cc4-bf0c-a27ffa1732a3",
   "metadata": {},
   "outputs": [
    {
     "data": {
      "text/html": [
       "<table class=\"dataframe\">\n",
       "<caption>A tibble: 2 × 3</caption>\n",
       "<thead>\n",
       "\t<tr><th scope=col>Status</th><th scope=col>mean_life</th><th scope=col>sd_life</th></tr>\n",
       "\t<tr><th scope=col>&lt;chr&gt;</th><th scope=col>&lt;dbl&gt;</th><th scope=col>&lt;dbl&gt;</th></tr>\n",
       "</thead>\n",
       "<tbody>\n",
       "\t<tr><td>Developed </td><td>79.19785</td><td>3.930942</td></tr>\n",
       "\t<tr><td>Developing</td><td>67.11147</td><td>9.006092</td></tr>\n",
       "</tbody>\n",
       "</table>\n"
      ],
      "text/latex": [
       "A tibble: 2 × 3\n",
       "\\begin{tabular}{lll}\n",
       " Status & mean\\_life & sd\\_life\\\\\n",
       " <chr> & <dbl> & <dbl>\\\\\n",
       "\\hline\n",
       "\t Developed  & 79.19785 & 3.930942\\\\\n",
       "\t Developing & 67.11147 & 9.006092\\\\\n",
       "\\end{tabular}\n"
      ],
      "text/markdown": [
       "\n",
       "A tibble: 2 × 3\n",
       "\n",
       "| Status &lt;chr&gt; | mean_life &lt;dbl&gt; | sd_life &lt;dbl&gt; |\n",
       "|---|---|---|\n",
       "| Developed  | 79.19785 | 3.930942 |\n",
       "| Developing | 67.11147 | 9.006092 |\n",
       "\n"
      ],
      "text/plain": [
       "  Status     mean_life sd_life \n",
       "1 Developed  79.19785  3.930942\n",
       "2 Developing 67.11147  9.006092"
      ]
     },
     "metadata": {},
     "output_type": "display_data"
    }
   ],
   "source": [
    "# Grouping the tidy dataset by status to calculate the mean and standard deviation of life expectancy \n",
    "#   for developing countries and developed countries\n",
    "\n",
    "STAT_Country_Status<- life_tidy %>%\n",
    "    group_by(Status) %>%\n",
    "    summarise(mean_life = mean(Life.expectancy),\n",
    "              sd_life = sd(Life.expectancy))\n",
    "\n",
    "STAT_Country_Status"
   ]
  },
  {
   "cell_type": "markdown",
   "id": "b0091b97-5541-4ce6-bbae-4a001cd01fe3",
   "metadata": {},
   "source": [
    "Table 4: Mean and standard deviation of life expectancy"
   ]
  },
  {
   "cell_type": "code",
   "execution_count": 31,
   "id": "789811ac-2efc-4039-b71f-b9fad2231411",
   "metadata": {},
   "outputs": [
    {
     "data": {
      "image/png": "[encoded data removed]",
      "text/plain": [
       "plot without title"
      ]
     },
     "metadata": {
      "image/png": {
       "height": 510,
       "width": 900
      }
     },
     "output_type": "display_data"
    }
   ],
   "source": [
    "vis_stat_status<- STAT_Country_Status %>%\n",
    "    ggplot(aes(x = Status, y = mean_life, fill = Status)) +\n",
    "    geom_bar(stat = \"identity\") +\n",
    "    xlab(\"Country status\") +\n",
    "    ylab(\"Mean life expectancy\") +\n",
    "    ggtitle(\"Mean life expectancy for 2 levels of country status\") +\n",
    "    theme(text=element_text(size=16))\n",
    "\n",
    "vis_stat_status"
   ]
  },
  {
   "cell_type": "markdown",
   "id": "1feaa36e-6b0e-4078-a442-6a2944eb5fc8",
   "metadata": {},
   "source": [
    "Figure 4: Bar chart of mean life expectancy for each country status"
   ]
  },
  {
   "cell_type": "markdown",
   "id": "30e29939-fa7a-4adf-9ee5-ea89ed190af6",
   "metadata": {},
   "source": [
    "# Method: Plan\n",
    "The integrity of our data can be supported by the following facts: our data covers a significant period of time (15 years), was collected fairly recently, and comes from a respected organization (World Health Organization). On the other hand, our results don’t take into account measurement error, variance in how the data was collected, how the definition of a developed/developing country might change over time, and how socioeconomic inequalities can worsen or lessen over time. And also, we are navigating the population for the 20 century. Our current preliminary findings are not sufficient to deliver to a stakeholder because our results don’t take into account sampling variability and this is especially important to take into account as the boxplot visual in our graph “Life Expectancy based on Country Status” displays that there is a significant overlap between the two ranges so it’s extremely important to conduct hypothesis testing at a 10% significance level and bootstrapping to verify that our results are as precise as possible. We chose bootstrapping over asymptotics as we do not have super large sample size that could meet the Law of Large Number, as well as the fact that as seen on figure 3 the developing distribution is right skewed. We are expecting to find the life expectancy in developed countries to be greater than in developing countries. Our findings would indicate a level of correlation between the condition of the national economy and lifespan. A later study could look into what the differences are between developing countries and developed countries that lead to different lifespans, and how these factors affect the length of life."
   ]
  },
  {
   "cell_type": "markdown",
   "id": "19ce0cc0-dc26-402b-9403-47c3e911c22b",
   "metadata": {},
   "source": [
    "# Confidence interval"
   ]
  },
  {
   "cell_type": "markdown",
   "id": "b7f26bed-216b-43c4-8878-24d9eab0b3f2",
   "metadata": {},
   "source": [
    "#### Method 1: Bootstraping method"
   ]
  },
  {
   "cell_type": "markdown",
   "id": "37a4782c-f47a-4be5-aba1-da21d03e5564",
   "metadata": {},
   "source": [
    "Even though only one of the distributions from figure 3 was right-skewed, to keep the work consistent, we are conducting bootstrapping on both datasets(developed and developing)."
   ]
  },
  {
   "cell_type": "code",
   "execution_count": 57,
   "id": "1b927844-904e-4e93-a8f3-48018584db67",
   "metadata": {},
   "outputs": [
    {
     "data": {
      "text/html": [
       "<table class=\"dataframe\">\n",
       "<caption>A tibble: 2 × 2</caption>\n",
       "<thead>\n",
       "\t<tr><th scope=col>Status</th><th scope=col>n</th></tr>\n",
       "\t<tr><th scope=col>&lt;chr&gt;</th><th scope=col>&lt;int&gt;</th></tr>\n",
       "</thead>\n",
       "<tbody>\n",
       "\t<tr><td>Developed </td><td> 512</td></tr>\n",
       "\t<tr><td>Developing</td><td>2416</td></tr>\n",
       "</tbody>\n",
       "</table>\n"
      ],
      "text/latex": [
       "A tibble: 2 × 2\n",
       "\\begin{tabular}{ll}\n",
       " Status & n\\\\\n",
       " <chr> & <int>\\\\\n",
       "\\hline\n",
       "\t Developed  &  512\\\\\n",
       "\t Developing & 2416\\\\\n",
       "\\end{tabular}\n"
      ],
      "text/markdown": [
       "\n",
       "A tibble: 2 × 2\n",
       "\n",
       "| Status &lt;chr&gt; | n &lt;int&gt; |\n",
       "|---|---|\n",
       "| Developed  |  512 |\n",
       "| Developing | 2416 |\n",
       "\n"
      ],
      "text/plain": [
       "  Status     n   \n",
       "1 Developed   512\n",
       "2 Developing 2416"
      ]
     },
     "metadata": {},
     "output_type": "display_data"
    }
   ],
   "source": [
    "# Computing sample size n for each category\n",
    "life_n<-life_tidy %>%\n",
    "      group_by(Status)%>%\n",
    "      summarise(n=n())\n",
    "\n",
    "life_n"
   ]
  },
  {
   "cell_type": "markdown",
   "id": "33ed9495-4438-45c4-9e23-5a08148f3ca5",
   "metadata": {},
   "source": [
    "Table 5: Sample Size of each category"
   ]
  },
  {
   "cell_type": "markdown",
   "id": "4098dea3-f17f-44a9-93dd-76fc0647f5d1",
   "metadata": {},
   "source": [
    "Here we working with our dataset by dividing it based on country status and for each we are taking many (1000) bootstrap samples with our sample size being the entire dataset filtered based on status (calculated in table 5), so we end up with two sets of bootstrapping samples (one for each status). Then calculating the mean for each replicate for both sets of bootstrapping samples."
   ]
  },
  {
   "cell_type": "code",
   "execution_count": 58,
   "id": "7de1ac2d-714e-4fe7-b4ea-ebbb3d243d4e",
   "metadata": {},
   "outputs": [],
   "source": [
    "set.seed(201)\n",
    "\n",
    "# Developed boostrapping samples\n",
    "bootstrap_Developed <- life_tidy %>%\n",
    "    filter(Status == \"Developed\") %>%\n",
    "    rep_sample_n(reps= 1000, size = 512, replace = TRUE) %>%\n",
    "    group_by(replicate) %>%\n",
    "    summarize(mean_life = mean(Life.expectancy)) %>%\n",
    "    select(mean_life)\n",
    "\n",
    "# Developing boostrapping samples\n",
    "bootstrap_Developing<- life_tidy %>%\n",
    "    filter(Status == \"Developing\") %>%\n",
    "    rep_sample_n(reps= 1000, size = 2384, replace = TRUE) %>%\n",
    "    group_by(replicate) %>%\n",
    "    summarize(mean_life = mean(Life.expectancy)) %>%\n",
    "    select(mean_life)"
   ]
  },
  {
   "cell_type": "markdown",
   "id": "9d5a98a1-cd49-4c12-adab-0ce23794a53d",
   "metadata": {},
   "source": [
    "Our 90% confidence interval was calculated using the quantile function with the 5% sample quantile as our lower bound and the 95% sample quantile as our upper bound (computed twice for developed and developing) to be used in Figure 5 below."
   ]
  },
  {
   "cell_type": "code",
   "execution_count": 34,
   "id": "c5626189-677b-40b8-b41a-81056d1ff122",
   "metadata": {},
   "outputs": [],
   "source": [
    "# Computed 90% confidence intevals\n",
    "\n",
    "BOOT_CI_developed <- bootstrap_Developed %>%\n",
    "    summarize(ci_lower = quantile(mean_life,0.05),\n",
    "              ci_upper = quantile(mean_life,0.95))\n",
    "\n",
    "BOOT_CI_developing <- bootstrap_Developing %>%\n",
    "    summarize(ci_lower = quantile(mean_life,0.05),\n",
    "              ci_upper = quantile(mean_life,0.95))"
   ]
  },
  {
   "cell_type": "code",
   "execution_count": 35,
   "id": "7271c1f8-59d4-4762-a80a-fd5f2a005891",
   "metadata": {},
   "outputs": [],
   "source": [
    "# Sample means (calculated earlier in table 4, based on the entire dataset) are being pulled for the visuals below.\n",
    "\n",
    "developed_sample_mean<-STAT_Country_Status[1,2]%>%pull()\n",
    "developing_sample_mean<-STAT_Country_Status[2,2]%>%pull()\n",
    "\n",
    "# Plot the 90% confidence interval for developed countries (shaded blue)\n",
    "\n",
    "ci_plot_developed <- \n",
    "    # Histogram of life expectancy for developed countries\n",
    "    bootstrap_Developed %>% \n",
    "    ggplot(aes(x = mean_life)) +\n",
    "    geom_histogram(colour = \"white\", fill = \"grey\", binwidth = 0.1) +\n",
    "    # Shade 90% bootstrapping CI\n",
    "    annotate(\"rect\", xmin = BOOT_CI_developed$ci_lower, xmax = BOOT_CI_developed$ci_upper, ymin = 0, ymax = Inf,\n",
    "             fill = \"deepskyblue\",\n",
    "             alpha = 0.3) +\n",
    "    # Red line for Sample Mean\n",
    "    geom_vline(xintercept = developed_sample_mean,\n",
    "               size = 2,\n",
    "               colour = \"red\") +\n",
    "    labs(title = \"Bootstrapping Approximation of mean life expectancy for people living in developed countries\",\n",
    "         x = \"Mean life expectancy (year)\",\n",
    "         y = \"cont\")  +\n",
    "    plot_config1\n",
    "\n",
    "# Plot the 90% confidence interval for developing countries (shaded blue)\n",
    "\n",
    "ci_plot_developing <- \n",
    "    # Histogram of life expectancy for developing countries\n",
    "    bootstrap_Developing %>% \n",
    "    ggplot(aes(x = mean_life)) +\n",
    "    geom_histogram(colour = \"white\", fill = \"grey\", binwidth = 0.1) +\n",
    "    # Shade 90% bootstrapping CI\n",
    "    annotate(\"rect\", xmin = BOOT_CI_developing$ci_lower, xmax = BOOT_CI_developing$ci_upper, ymin = 0, ymax = Inf,\n",
    "             fill = \"deepskyblue\",\n",
    "             alpha = 0.3) +\n",
    "    # Red line for Sample Mean\n",
    "    geom_vline(xintercept = developing_sample_mean,\n",
    "               size = 2,\n",
    "               colour = \"red\") +\n",
    "    labs(title = \"Bootstrapping Approximation of mean life expectancy for people living in developing countries\",\n",
    "         x = \"Mean life expectancy (year)\",\n",
    "         y = \"cont\")  +\n",
    "    plot_config1"
   ]
  },
  {
   "cell_type": "code",
   "execution_count": 36,
   "id": "6232ad25-85d1-4741-b12c-2a710b2b2eaf",
   "metadata": {},
   "outputs": [
    {
     "data": {
      "image/png": "[encoded data removed]",
      "text/plain": [
       "plot without title"
      ]
     },
     "metadata": {
      "image/png": {
       "height": 510,
       "width": 900
      }
     },
     "output_type": "display_data"
    }
   ],
   "source": [
    "# The plot of confidence interval for the developed countries' life expectancy obtained by bootstraping method\n",
    "\n",
    "ci_plot_developed"
   ]
  },
  {
   "cell_type": "markdown",
   "id": "1945c53a-f520-4a91-9852-d45f653538e5",
   "metadata": {},
   "source": [
    "Figure 5 : Bootstrapping distribution with a shaded 90% confidence interval for developed countries"
   ]
  },
  {
   "cell_type": "code",
   "execution_count": 37,
   "id": "7a174e2f-d6e8-464e-8b6e-3b40be1a32db",
   "metadata": {},
   "outputs": [
    {
     "data": {
      "text/html": [
       "<table class=\"dataframe\">\n",
       "<caption>A tibble: 1 × 2</caption>\n",
       "<thead>\n",
       "\t<tr><th scope=col>ci_lower</th><th scope=col>ci_upper</th></tr>\n",
       "\t<tr><th scope=col>&lt;dbl&gt;</th><th scope=col>&lt;dbl&gt;</th></tr>\n",
       "</thead>\n",
       "<tbody>\n",
       "\t<tr><td>78.92226</td><td>79.49461</td></tr>\n",
       "</tbody>\n",
       "</table>\n"
      ],
      "text/latex": [
       "A tibble: 1 × 2\n",
       "\\begin{tabular}{ll}\n",
       " ci\\_lower & ci\\_upper\\\\\n",
       " <dbl> & <dbl>\\\\\n",
       "\\hline\n",
       "\t 78.92226 & 79.49461\\\\\n",
       "\\end{tabular}\n"
      ],
      "text/markdown": [
       "\n",
       "A tibble: 1 × 2\n",
       "\n",
       "| ci_lower &lt;dbl&gt; | ci_upper &lt;dbl&gt; |\n",
       "|---|---|\n",
       "| 78.92226 | 79.49461 |\n",
       "\n"
      ],
      "text/plain": [
       "  ci_lower ci_upper\n",
       "1 78.92226 79.49461"
      ]
     },
     "metadata": {},
     "output_type": "display_data"
    }
   ],
   "source": [
    "# Confidence interval (Developed)\n",
    "\n",
    "BOOT_CI_developed"
   ]
  },
  {
   "cell_type": "markdown",
   "id": "7af8fb53-79e0-4d24-9d9a-35b07de49e22",
   "metadata": {},
   "source": [
    "Table 6: 90% Confidence interval of average life expectancy for developed countries using bootstrapping"
   ]
  },
  {
   "cell_type": "markdown",
   "id": "47b3720d-fc5c-43c7-8823-a92f5e7689fd",
   "metadata": {},
   "source": [
    "We are 90% confident that the true average life expectancy for developed countries between 1922-2022 falls between 78.92226 years and 79.49461 years."
   ]
  },
  {
   "cell_type": "code",
   "execution_count": 38,
   "id": "5080e67a-0547-476a-895d-515e5a56cea7",
   "metadata": {},
   "outputs": [
    {
     "data": {
      "image/png": "[encoded data removed]",
      "text/plain": [
       "plot without title"
      ]
     },
     "metadata": {
      "image/png": {
       "height": 510,
       "width": 900
      }
     },
     "output_type": "display_data"
    }
   ],
   "source": [
    "# The plot of confidence interval for the developing countries' life expectancy obtained by bootstraping method\n",
    "\n",
    "ci_plot_developing"
   ]
  },
  {
   "cell_type": "markdown",
   "id": "7f4600c6-4b13-4c8d-a12e-917d76fb5b6f",
   "metadata": {},
   "source": [
    "Figure 6: Bootstrapping distribution with a shaded 90% confidence interval for developing countries"
   ]
  },
  {
   "cell_type": "code",
   "execution_count": 39,
   "id": "3953b8b7-6a7d-4d0b-b197-ea40370cc9e2",
   "metadata": {},
   "outputs": [
    {
     "data": {
      "text/html": [
       "<table class=\"dataframe\">\n",
       "<caption>A tibble: 1 × 2</caption>\n",
       "<thead>\n",
       "\t<tr><th scope=col>ci_lower</th><th scope=col>ci_upper</th></tr>\n",
       "\t<tr><th scope=col>&lt;dbl&gt;</th><th scope=col>&lt;dbl&gt;</th></tr>\n",
       "</thead>\n",
       "<tbody>\n",
       "\t<tr><td>66.81789</td><td>67.41827</td></tr>\n",
       "</tbody>\n",
       "</table>\n"
      ],
      "text/latex": [
       "A tibble: 1 × 2\n",
       "\\begin{tabular}{ll}\n",
       " ci\\_lower & ci\\_upper\\\\\n",
       " <dbl> & <dbl>\\\\\n",
       "\\hline\n",
       "\t 66.81789 & 67.41827\\\\\n",
       "\\end{tabular}\n"
      ],
      "text/markdown": [
       "\n",
       "A tibble: 1 × 2\n",
       "\n",
       "| ci_lower &lt;dbl&gt; | ci_upper &lt;dbl&gt; |\n",
       "|---|---|\n",
       "| 66.81789 | 67.41827 |\n",
       "\n"
      ],
      "text/plain": [
       "  ci_lower ci_upper\n",
       "1 66.81789 67.41827"
      ]
     },
     "metadata": {},
     "output_type": "display_data"
    }
   ],
   "source": [
    "# Confidence interval (developing)\n",
    "\n",
    "BOOT_CI_developing"
   ]
  },
  {
   "cell_type": "markdown",
   "id": "3c94a279-e881-444c-b80a-65e41c12c9aa",
   "metadata": {},
   "source": [
    "Table 7: 90% Confidence interval of average life expectancy for developing countries using bootstrapping"
   ]
  },
  {
   "cell_type": "markdown",
   "id": "d36154ac-ad82-439c-9533-658ecc19176d",
   "metadata": {},
   "source": [
    "We are 90% confident that the true average life expectancy for developing countries between 1922-2022 falls between 66.81789 years and 67.41827 years."
   ]
  },
  {
   "cell_type": "markdown",
   "id": "10f37d36-924b-41c3-975d-fd7b2fdf5194",
   "metadata": {},
   "source": [
    "#### Method 2: Asymptotic Method"
   ]
  },
  {
   "cell_type": "markdown",
   "id": "6ef81187-da89-4080-b167-4a3b99099cfc",
   "metadata": {},
   "source": [
    "Below is the asymptotic method of obtaining the 90% confidence interval of average life expectancy."
   ]
  },
  {
   "cell_type": "code",
   "execution_count": 40,
   "id": "74df73e3-9da2-46eb-88fc-72c65467f606",
   "metadata": {},
   "outputs": [
    {
     "data": {
      "text/html": [
       "<table class=\"dataframe\">\n",
       "<caption>A data.frame: 6 × 4</caption>\n",
       "<thead>\n",
       "\t<tr><th></th><th scope=col>Country</th><th scope=col>Year</th><th scope=col>Status</th><th scope=col>Life.expectancy</th></tr>\n",
       "\t<tr><th></th><th scope=col>&lt;chr&gt;</th><th scope=col>&lt;int&gt;</th><th scope=col>&lt;chr&gt;</th><th scope=col>&lt;dbl&gt;</th></tr>\n",
       "</thead>\n",
       "<tbody>\n",
       "\t<tr><th scope=row>1</th><td>Australia</td><td>2015</td><td>Developed</td><td>82.8</td></tr>\n",
       "\t<tr><th scope=row>2</th><td>Australia</td><td>2014</td><td>Developed</td><td>82.7</td></tr>\n",
       "\t<tr><th scope=row>3</th><td>Australia</td><td>2013</td><td>Developed</td><td>82.5</td></tr>\n",
       "\t<tr><th scope=row>4</th><td>Australia</td><td>2012</td><td>Developed</td><td>82.3</td></tr>\n",
       "\t<tr><th scope=row>5</th><td>Australia</td><td>2011</td><td>Developed</td><td>82.0</td></tr>\n",
       "\t<tr><th scope=row>6</th><td>Australia</td><td>2010</td><td>Developed</td><td>81.9</td></tr>\n",
       "</tbody>\n",
       "</table>\n"
      ],
      "text/latex": [
       "A data.frame: 6 × 4\n",
       "\\begin{tabular}{r|llll}\n",
       "  & Country & Year & Status & Life.expectancy\\\\\n",
       "  & <chr> & <int> & <chr> & <dbl>\\\\\n",
       "\\hline\n",
       "\t1 & Australia & 2015 & Developed & 82.8\\\\\n",
       "\t2 & Australia & 2014 & Developed & 82.7\\\\\n",
       "\t3 & Australia & 2013 & Developed & 82.5\\\\\n",
       "\t4 & Australia & 2012 & Developed & 82.3\\\\\n",
       "\t5 & Australia & 2011 & Developed & 82.0\\\\\n",
       "\t6 & Australia & 2010 & Developed & 81.9\\\\\n",
       "\\end{tabular}\n"
      ],
      "text/markdown": [
       "\n",
       "A data.frame: 6 × 4\n",
       "\n",
       "| <!--/--> | Country &lt;chr&gt; | Year &lt;int&gt; | Status &lt;chr&gt; | Life.expectancy &lt;dbl&gt; |\n",
       "|---|---|---|---|---|\n",
       "| 1 | Australia | 2015 | Developed | 82.8 |\n",
       "| 2 | Australia | 2014 | Developed | 82.7 |\n",
       "| 3 | Australia | 2013 | Developed | 82.5 |\n",
       "| 4 | Australia | 2012 | Developed | 82.3 |\n",
       "| 5 | Australia | 2011 | Developed | 82.0 |\n",
       "| 6 | Australia | 2010 | Developed | 81.9 |\n",
       "\n"
      ],
      "text/plain": [
       "  Country   Year Status    Life.expectancy\n",
       "1 Australia 2015 Developed 82.8           \n",
       "2 Australia 2014 Developed 82.7           \n",
       "3 Australia 2013 Developed 82.5           \n",
       "4 Australia 2012 Developed 82.3           \n",
       "5 Australia 2011 Developed 82.0           \n",
       "6 Australia 2010 Developed 81.9           "
      ]
     },
     "metadata": {},
     "output_type": "display_data"
    },
    {
     "data": {
      "text/html": [
       "<table class=\"dataframe\">\n",
       "<caption>A data.frame: 6 × 4</caption>\n",
       "<thead>\n",
       "\t<tr><th></th><th scope=col>Country</th><th scope=col>Year</th><th scope=col>Status</th><th scope=col>Life.expectancy</th></tr>\n",
       "\t<tr><th></th><th scope=col>&lt;chr&gt;</th><th scope=col>&lt;int&gt;</th><th scope=col>&lt;chr&gt;</th><th scope=col>&lt;dbl&gt;</th></tr>\n",
       "</thead>\n",
       "<tbody>\n",
       "\t<tr><th scope=row>1</th><td>Afghanistan</td><td>2015</td><td>Developing</td><td>65.0</td></tr>\n",
       "\t<tr><th scope=row>2</th><td>Afghanistan</td><td>2014</td><td>Developing</td><td>59.9</td></tr>\n",
       "\t<tr><th scope=row>3</th><td>Afghanistan</td><td>2013</td><td>Developing</td><td>59.9</td></tr>\n",
       "\t<tr><th scope=row>4</th><td>Afghanistan</td><td>2012</td><td>Developing</td><td>59.5</td></tr>\n",
       "\t<tr><th scope=row>5</th><td>Afghanistan</td><td>2011</td><td>Developing</td><td>59.2</td></tr>\n",
       "\t<tr><th scope=row>6</th><td>Afghanistan</td><td>2010</td><td>Developing</td><td>58.8</td></tr>\n",
       "</tbody>\n",
       "</table>\n"
      ],
      "text/latex": [
       "A data.frame: 6 × 4\n",
       "\\begin{tabular}{r|llll}\n",
       "  & Country & Year & Status & Life.expectancy\\\\\n",
       "  & <chr> & <int> & <chr> & <dbl>\\\\\n",
       "\\hline\n",
       "\t1 & Afghanistan & 2015 & Developing & 65.0\\\\\n",
       "\t2 & Afghanistan & 2014 & Developing & 59.9\\\\\n",
       "\t3 & Afghanistan & 2013 & Developing & 59.9\\\\\n",
       "\t4 & Afghanistan & 2012 & Developing & 59.5\\\\\n",
       "\t5 & Afghanistan & 2011 & Developing & 59.2\\\\\n",
       "\t6 & Afghanistan & 2010 & Developing & 58.8\\\\\n",
       "\\end{tabular}\n"
      ],
      "text/markdown": [
       "\n",
       "A data.frame: 6 × 4\n",
       "\n",
       "| <!--/--> | Country &lt;chr&gt; | Year &lt;int&gt; | Status &lt;chr&gt; | Life.expectancy &lt;dbl&gt; |\n",
       "|---|---|---|---|---|\n",
       "| 1 | Afghanistan | 2015 | Developing | 65.0 |\n",
       "| 2 | Afghanistan | 2014 | Developing | 59.9 |\n",
       "| 3 | Afghanistan | 2013 | Developing | 59.9 |\n",
       "| 4 | Afghanistan | 2012 | Developing | 59.5 |\n",
       "| 5 | Afghanistan | 2011 | Developing | 59.2 |\n",
       "| 6 | Afghanistan | 2010 | Developing | 58.8 |\n",
       "\n"
      ],
      "text/plain": [
       "  Country     Year Status     Life.expectancy\n",
       "1 Afghanistan 2015 Developing 65.0           \n",
       "2 Afghanistan 2014 Developing 59.9           \n",
       "3 Afghanistan 2013 Developing 59.9           \n",
       "4 Afghanistan 2012 Developing 59.5           \n",
       "5 Afghanistan 2011 Developing 59.2           \n",
       "6 Afghanistan 2010 Developing 58.8           "
      ]
     },
     "metadata": {},
     "output_type": "display_data"
    }
   ],
   "source": [
    "head(life_developed)\n",
    "head(life_developing)"
   ]
  },
  {
   "cell_type": "markdown",
   "id": "f6d1add2-1854-467d-8df9-5f2000d3edb1",
   "metadata": {},
   "source": [
    "Table 8: Original tidy dataset divided based on status"
   ]
  },
  {
   "cell_type": "code",
   "execution_count": 41,
   "id": "05362485-241c-4125-b7c5-20a95f85da6e",
   "metadata": {},
   "outputs": [],
   "source": [
    "Developed_plot <- life_developed %>% \n",
    "    # Histogram of life expectancy for developed countries\n",
    "    ggplot(aes(x = Life.expectancy)) +\n",
    "    geom_histogram(aes(y =..density..), fill = \"lightgray\", binwidth = 1) +\n",
    "    labs(title = \"Normal Approximation using CLT of life expectancy of people in developed countries\",\n",
    "         x = \"Life expectancy (Year)\",\n",
    "         y = \"Density\") +\n",
    "    # Normal approximation using CLT\n",
    "    stat_function(fun = dnorm, args = list(mean = mean(life_developed$Life.expectancy),\n",
    "                                           sd = sd(life_developed$Life.expectancy) / sqrt(nrow(life_developed))),\n",
    "                 color = \"black\", size = 2) +\n",
    "    plot_config1 +\n",
    "    scale_x_continuous(breaks = seq(0, 100, 10)) +\n",
    "    # Red line for Sample mean \n",
    "    geom_vline(xintercept = mean(life_developed$Life.expectancy),\n",
    "               size = 2,\n",
    "               colour = \"red\")\n",
    "\n",
    "Developing_plot <- life_developing %>%\n",
    "    # Histogram of life expectancy for developing countries\n",
    "    ggplot(aes(x = Life.expectancy)) +\n",
    "    geom_histogram(aes(y =..density..), fill = \"lightgray\", binwidth = 1) +\n",
    "    labs(title = \"Normal Approximation using CLT of life expectancy of people in developing countries\",\n",
    "         x = \"Life expectancy (Year)\",\n",
    "         y = \"Density\") +\n",
    "    # Normal approximation using CLT\n",
    "    stat_function(fun = dnorm, args = list(mean = mean(life_developing$Life.expectancy),\n",
    "                                           sd = sd(life_developing$Life.expectancy) / sqrt(nrow(life_developing))),\n",
    "                 color = \"black\", size = 2) +\n",
    "    plot_config1 +\n",
    "    scale_x_continuous(breaks = seq(0, 100, 10)) +\n",
    "    # Red line for Sample mean \n",
    "    geom_vline(xintercept = mean(life_developing$Life.expectancy),\n",
    "               size = 2,\n",
    "               colour = \"red\")"
   ]
  },
  {
   "cell_type": "code",
   "execution_count": 42,
   "id": "ca3a798f-de23-4dc6-8e45-7e9aa79823e4",
   "metadata": {},
   "outputs": [
    {
     "data": {
      "image/png": "[encoded data removed]",
      "text/plain": [
       "plot without title"
      ]
     },
     "metadata": {
      "image/png": {
       "height": 510,
       "width": 900
      }
     },
     "output_type": "display_data"
    }
   ],
   "source": [
    "# The plot of confidence interval for the developed countries' life expectancy obtained by asymptotic Method\n",
    "\n",
    "Developed_plot"
   ]
  },
  {
   "cell_type": "markdown",
   "id": "a2c3c14d-9235-4b95-a3d7-0aea5111fd3f",
   "metadata": {},
   "source": [
    "Figure 7: Normal approximation overlayed on the histogram of life expectancy for developed countries"
   ]
  },
  {
   "cell_type": "markdown",
   "id": "5ed9662d-6770-44b4-aefb-704ef9041561",
   "metadata": {},
   "source": [
    "Below we are using qnorm to find the value of the 5th and 95th quantile (our lower and upper confidence level bounds) on the distribution of life expectancy for developed countries."
   ]
  },
  {
   "cell_type": "code",
   "execution_count": 43,
   "id": "5c4cc83a-bb87-4a8a-a411-6a906534d3ec",
   "metadata": {},
   "outputs": [
    {
     "data": {
      "text/html": [
       "<table class=\"dataframe\">\n",
       "<caption>A tibble: 1 × 2</caption>\n",
       "<thead>\n",
       "\t<tr><th scope=col>Lower</th><th scope=col>Upper</th></tr>\n",
       "\t<tr><th scope=col>&lt;dbl&gt;</th><th scope=col>&lt;dbl&gt;</th></tr>\n",
       "</thead>\n",
       "<tbody>\n",
       "\t<tr><td>78.9121</td><td>79.4836</td></tr>\n",
       "</tbody>\n",
       "</table>\n"
      ],
      "text/latex": [
       "A tibble: 1 × 2\n",
       "\\begin{tabular}{ll}\n",
       " Lower & Upper\\\\\n",
       " <dbl> & <dbl>\\\\\n",
       "\\hline\n",
       "\t 78.9121 & 79.4836\\\\\n",
       "\\end{tabular}\n"
      ],
      "text/markdown": [
       "\n",
       "A tibble: 1 × 2\n",
       "\n",
       "| Lower &lt;dbl&gt; | Upper &lt;dbl&gt; |\n",
       "|---|---|\n",
       "| 78.9121 | 79.4836 |\n",
       "\n"
      ],
      "text/plain": [
       "  Lower   Upper  \n",
       "1 78.9121 79.4836"
      ]
     },
     "metadata": {},
     "output_type": "display_data"
    }
   ],
   "source": [
    "# Confidence interval\n",
    "\n",
    "CLT_CI_developed<-tibble(\"Mean\" = mean(life_developed$Life.expectancy),\n",
    "               \"Lower\" = qnorm(0.05, mean(life_developed$Life.expectancy), #lower bound: 5th quantile\n",
    "                               sd(life_developed$Life.expectancy) / sqrt(nrow(life_developed))),\n",
    "               \"Upper\" = qnorm(0.95, mean(life_developed$Life.expectancy), #upper bound: 95th quantile\n",
    "                               sd(life_developed$Life.expectancy) / sqrt(nrow(life_developed)))) %>%\n",
    "               select(-Mean)\n",
    "\n",
    "CLT_CI_developed"
   ]
  },
  {
   "cell_type": "markdown",
   "id": "74e45e22-62f1-471f-b319-fa1fc117e142",
   "metadata": {},
   "source": [
    "Table 9: 90% Confidence interval of average life expectancy for developed countries using asymptotics"
   ]
  },
  {
   "cell_type": "markdown",
   "id": "022149da-4a5d-4dd9-975f-a3462277c442",
   "metadata": {},
   "source": [
    "We are 90% confident that the true average life expectancy for developed countries between 1922-2022 falls between 78.9121 years and 79.4836 years."
   ]
  },
  {
   "cell_type": "code",
   "execution_count": 56,
   "id": "46946281-e9a0-4f7e-bf4a-94913aad8b74",
   "metadata": {},
   "outputs": [
    {
     "data": {
      "image/png": "[encoded data removed]",
      "text/plain": [
       "plot without title"
      ]
     },
     "metadata": {
      "image/png": {
       "height": 510,
       "width": 900
      }
     },
     "output_type": "display_data"
    }
   ],
   "source": [
    "# The plot of confidence interval for the developing countries' life expectancy obtained by asymptotic Methodth\n",
    "\n",
    "Developing_plot"
   ]
  },
  {
   "cell_type": "markdown",
   "id": "df3fe115-ada0-44ab-8172-07a8ef657dcc",
   "metadata": {},
   "source": [
    "Figure 8: Normal approximation overlayed on the histogram of life expectancy for developing countries"
   ]
  },
  {
   "cell_type": "markdown",
   "id": "9548f6d8-22df-4f06-9291-65552509f1cb",
   "metadata": {},
   "source": [
    "Then we repeat to find the 5th and 95th quantile on the distribution of life expectancy for developing countries."
   ]
  },
  {
   "cell_type": "code",
   "execution_count": 45,
   "id": "c9631107-03ed-4405-b5d0-7146b2a5e912",
   "metadata": {},
   "outputs": [
    {
     "data": {
      "text/html": [
       "<table class=\"dataframe\">\n",
       "<caption>A tibble: 1 × 2</caption>\n",
       "<thead>\n",
       "\t<tr><th scope=col>Lower</th><th scope=col>Upper</th></tr>\n",
       "\t<tr><th scope=col>&lt;dbl&gt;</th><th scope=col>&lt;dbl&gt;</th></tr>\n",
       "</thead>\n",
       "<tbody>\n",
       "\t<tr><td>66.81008</td><td>67.41285</td></tr>\n",
       "</tbody>\n",
       "</table>\n"
      ],
      "text/latex": [
       "A tibble: 1 × 2\n",
       "\\begin{tabular}{ll}\n",
       " Lower & Upper\\\\\n",
       " <dbl> & <dbl>\\\\\n",
       "\\hline\n",
       "\t 66.81008 & 67.41285\\\\\n",
       "\\end{tabular}\n"
      ],
      "text/markdown": [
       "\n",
       "A tibble: 1 × 2\n",
       "\n",
       "| Lower &lt;dbl&gt; | Upper &lt;dbl&gt; |\n",
       "|---|---|\n",
       "| 66.81008 | 67.41285 |\n",
       "\n"
      ],
      "text/plain": [
       "  Lower    Upper   \n",
       "1 66.81008 67.41285"
      ]
     },
     "metadata": {},
     "output_type": "display_data"
    }
   ],
   "source": [
    "# Confidence interval\n",
    "\n",
    "CLT_CI_developing<- tibble(\"Mean\" = mean(life_developing$Life.expectancy),\n",
    "               \"Lower\" = qnorm(0.05, mean(life_developing$Life.expectancy), # lower bound: 5th quantile\n",
    "                               sd(life_developing$Life.expectancy) / sqrt(nrow(life_developing))),\n",
    "               \"Upper\" = qnorm(0.95, mean(life_developing$Life.expectancy), # upper bound: 95th quantile\n",
    "                               sd(life_developing$Life.expectancy) / sqrt(nrow(life_developing))))%>%\n",
    "               select(-Mean)\n",
    "\n",
    "CLT_CI_developing"
   ]
  },
  {
   "cell_type": "markdown",
   "id": "f030736e-b780-4429-9e7c-13c869034805",
   "metadata": {},
   "source": [
    "Table 10: 90% Confidence interval of average life expectancy for developing countries using asymptotics"
   ]
  },
  {
   "cell_type": "markdown",
   "id": "ef94261f-82f7-4e46-adec-0228c6b20fc4",
   "metadata": {},
   "source": [
    "#### Comparing confidence intervals obtained from 2 methods"
   ]
  },
  {
   "cell_type": "code",
   "execution_count": 46,
   "id": "9514b95b-6463-433f-9db5-938a57e703cd",
   "metadata": {},
   "outputs": [
    {
     "data": {
      "text/html": [
       "<table class=\"dataframe\">\n",
       "<caption>A data.frame: 1 × 4</caption>\n",
       "<thead>\n",
       "\t<tr><th scope=col>ci_lower</th><th scope=col>ci_upper</th><th scope=col>Lower</th><th scope=col>Upper</th></tr>\n",
       "\t<tr><th scope=col>&lt;dbl&gt;</th><th scope=col>&lt;dbl&gt;</th><th scope=col>&lt;dbl&gt;</th><th scope=col>&lt;dbl&gt;</th></tr>\n",
       "</thead>\n",
       "<tbody>\n",
       "\t<tr><td>78.92226</td><td>79.49461</td><td>78.9121</td><td>79.4836</td></tr>\n",
       "</tbody>\n",
       "</table>\n"
      ],
      "text/latex": [
       "A data.frame: 1 × 4\n",
       "\\begin{tabular}{llll}\n",
       " ci\\_lower & ci\\_upper & Lower & Upper\\\\\n",
       " <dbl> & <dbl> & <dbl> & <dbl>\\\\\n",
       "\\hline\n",
       "\t 78.92226 & 79.49461 & 78.9121 & 79.4836\\\\\n",
       "\\end{tabular}\n"
      ],
      "text/markdown": [
       "\n",
       "A data.frame: 1 × 4\n",
       "\n",
       "| ci_lower &lt;dbl&gt; | ci_upper &lt;dbl&gt; | Lower &lt;dbl&gt; | Upper &lt;dbl&gt; |\n",
       "|---|---|---|---|\n",
       "| 78.92226 | 79.49461 | 78.9121 | 79.4836 |\n",
       "\n"
      ],
      "text/plain": [
       "  ci_lower ci_upper Lower   Upper  \n",
       "1 78.92226 79.49461 78.9121 79.4836"
      ]
     },
     "metadata": {},
     "output_type": "display_data"
    }
   ],
   "source": [
    "# Combine the developed coutries' confidence intervals together and compare the differences\n",
    "\n",
    "cbind(BOOT_CI_developed,CLT_CI_developed)"
   ]
  },
  {
   "cell_type": "markdown",
   "id": "9eb96cad-24e1-4f6d-b39d-d8b21faaad99",
   "metadata": {},
   "source": [
    "Table 11: Confidence intervals for developed countries (left two: bootstrapping, right two: asymptotic)"
   ]
  },
  {
   "cell_type": "markdown",
   "id": "2402a286-4ee3-4716-bace-74292ba24033",
   "metadata": {},
   "source": [
    "Both confidence intervals for developed countries are only different by a hundredth of a year, the interval obtained by using asymptotics is slightly lower than the interval obtained by using bootstrapping."
   ]
  },
  {
   "cell_type": "code",
   "execution_count": 47,
   "id": "22005269-5fd4-4381-8d31-231a4c794076",
   "metadata": {},
   "outputs": [
    {
     "data": {
      "text/html": [
       "<table class=\"dataframe\">\n",
       "<caption>A data.frame: 1 × 4</caption>\n",
       "<thead>\n",
       "\t<tr><th scope=col>ci_lower</th><th scope=col>ci_upper</th><th scope=col>Lower</th><th scope=col>Upper</th></tr>\n",
       "\t<tr><th scope=col>&lt;dbl&gt;</th><th scope=col>&lt;dbl&gt;</th><th scope=col>&lt;dbl&gt;</th><th scope=col>&lt;dbl&gt;</th></tr>\n",
       "</thead>\n",
       "<tbody>\n",
       "\t<tr><td>66.81789</td><td>67.41827</td><td>66.81008</td><td>67.41285</td></tr>\n",
       "</tbody>\n",
       "</table>\n"
      ],
      "text/latex": [
       "A data.frame: 1 × 4\n",
       "\\begin{tabular}{llll}\n",
       " ci\\_lower & ci\\_upper & Lower & Upper\\\\\n",
       " <dbl> & <dbl> & <dbl> & <dbl>\\\\\n",
       "\\hline\n",
       "\t 66.81789 & 67.41827 & 66.81008 & 67.41285\\\\\n",
       "\\end{tabular}\n"
      ],
      "text/markdown": [
       "\n",
       "A data.frame: 1 × 4\n",
       "\n",
       "| ci_lower &lt;dbl&gt; | ci_upper &lt;dbl&gt; | Lower &lt;dbl&gt; | Upper &lt;dbl&gt; |\n",
       "|---|---|---|---|\n",
       "| 66.81789 | 67.41827 | 66.81008 | 67.41285 |\n",
       "\n"
      ],
      "text/plain": [
       "  ci_lower ci_upper Lower    Upper   \n",
       "1 66.81789 67.41827 66.81008 67.41285"
      ]
     },
     "metadata": {},
     "output_type": "display_data"
    }
   ],
   "source": [
    "# Combine the developing coutries' confidence intervals together and compare the differences\n",
    "\n",
    "cbind(BOOT_CI_developing,CLT_CI_developing)"
   ]
  },
  {
   "cell_type": "markdown",
   "id": "cce2dc62-8762-46ab-85d1-19afe0d6480b",
   "metadata": {},
   "source": [
    "Table 12: Confidence intervals for developing countries (left two: bootstrapping, right two: asymptotic)"
   ]
  },
  {
   "cell_type": "markdown",
   "id": "8133183f-f62e-4828-a1cc-73919a2bcd2c",
   "metadata": {},
   "source": [
    "We see that, also for developing countries, both confidence intervals are only different by a hundredth of a year, with the interval obtained by using asymptotics also being slightly lower than the interval obtained by using bootstrapping."
   ]
  },
  {
   "cell_type": "markdown",
   "id": "46a9a610-1601-4fff-abf3-32307fa56159",
   "metadata": {},
   "source": [
    "#### Hypothesis Testing"
   ]
  },
  {
   "cell_type": "markdown",
   "id": "e1d8b645-5166-4004-bfb6-188ca7e7792e",
   "metadata": {},
   "source": [
    " Our null hypothesis is that there is no difference in the mean life expectancy for developed countries (µ1) and the mean life expectancy for developing countries (µ2) between the years 1922-2022.\n",
    " \n",
    "    H0 : µ1 - µ2 = 0\n",
    "    \n",
    " If we are able to reject our null hypothesis at a 10% significance level (alpha=0.1) then our alternative hypothesis is that there is a positive difference between the mean life expectancy for developed countries (µ1) and the mean life expectancy for developing countries (µ2) between the years 1922-2022.\n",
    " \n",
    "    Ha : µ1 - µ2 > 0                                                                                                   "
   ]
  },
  {
   "cell_type": "code",
   "execution_count": 48,
   "id": "4cf028eb-699f-4b82-a1e7-cae47ffef720",
   "metadata": {},
   "outputs": [],
   "source": [
    "# Pulling the values from two categories\n",
    "\n",
    "developed<- life_developed %>%\n",
    "          select(Life.expectancy) %>%\n",
    "          pull(Life.expectancy)\n",
    "\n",
    "developing <- life_developing %>%\n",
    "          select(Life.expectancy) %>%\n",
    "          pull(Life.expectancy)"
   ]
  },
  {
   "cell_type": "code",
   "execution_count": 49,
   "id": "2d4ecda6-0492-43ba-9d2a-9a63a9e69140",
   "metadata": {},
   "outputs": [],
   "source": [
    "# Doing two-sample t-test using the dataset seperated into the two groups based on status \n",
    "#   the alternative is \"greater\" as the alternative hypothesis is that there's a positive difference \n",
    "\n",
    "t_test <- tidy(\n",
    "              t.test(developed,\n",
    "                     developing,\n",
    "                     alternative=\"greater\"))"
   ]
  },
  {
   "cell_type": "code",
   "execution_count": 50,
   "id": "6922cfd8-20b0-44d1-a65e-9c14ab2515eb",
   "metadata": {},
   "outputs": [
    {
     "data": {
      "text/html": [
       "<table class=\"dataframe\">\n",
       "<caption>A tibble: 1 × 10</caption>\n",
       "<thead>\n",
       "\t<tr><th scope=col>estimate</th><th scope=col>estimate1</th><th scope=col>estimate2</th><th scope=col>statistic</th><th scope=col>p.value</th><th scope=col>parameter</th><th scope=col>conf.low</th><th scope=col>conf.high</th><th scope=col>method</th><th scope=col>alternative</th></tr>\n",
       "\t<tr><th scope=col>&lt;dbl&gt;</th><th scope=col>&lt;dbl&gt;</th><th scope=col>&lt;dbl&gt;</th><th scope=col>&lt;dbl&gt;</th><th scope=col>&lt;dbl&gt;</th><th scope=col>&lt;dbl&gt;</th><th scope=col>&lt;dbl&gt;</th><th scope=col>&lt;dbl&gt;</th><th scope=col>&lt;chr&gt;</th><th scope=col>&lt;chr&gt;</th></tr>\n",
       "</thead>\n",
       "<tbody>\n",
       "\t<tr><td>12.08639</td><td>79.19785</td><td>67.11147</td><td>47.86841</td><td>9.881313e-324</td><td>1807.031</td><td>11.67086</td><td>Inf</td><td>Welch Two Sample t-test</td><td>greater</td></tr>\n",
       "</tbody>\n",
       "</table>\n"
      ],
      "text/latex": [
       "A tibble: 1 × 10\n",
       "\\begin{tabular}{llllllllll}\n",
       " estimate & estimate1 & estimate2 & statistic & p.value & parameter & conf.low & conf.high & method & alternative\\\\\n",
       " <dbl> & <dbl> & <dbl> & <dbl> & <dbl> & <dbl> & <dbl> & <dbl> & <chr> & <chr>\\\\\n",
       "\\hline\n",
       "\t 12.08639 & 79.19785 & 67.11147 & 47.86841 & 9.881313e-324 & 1807.031 & 11.67086 & Inf & Welch Two Sample t-test & greater\\\\\n",
       "\\end{tabular}\n"
      ],
      "text/markdown": [
       "\n",
       "A tibble: 1 × 10\n",
       "\n",
       "| estimate &lt;dbl&gt; | estimate1 &lt;dbl&gt; | estimate2 &lt;dbl&gt; | statistic &lt;dbl&gt; | p.value &lt;dbl&gt; | parameter &lt;dbl&gt; | conf.low &lt;dbl&gt; | conf.high &lt;dbl&gt; | method &lt;chr&gt; | alternative &lt;chr&gt; |\n",
       "|---|---|---|---|---|---|---|---|---|---|\n",
       "| 12.08639 | 79.19785 | 67.11147 | 47.86841 | 9.881313e-324 | 1807.031 | 11.67086 | Inf | Welch Two Sample t-test | greater |\n",
       "\n"
      ],
      "text/plain": [
       "  estimate estimate1 estimate2 statistic p.value       parameter conf.low\n",
       "1 12.08639 79.19785  67.11147  47.86841  9.881313e-324 1807.031  11.67086\n",
       "  conf.high method                  alternative\n",
       "1 Inf       Welch Two Sample t-test greater    "
      ]
     },
     "metadata": {},
     "output_type": "display_data"
    }
   ],
   "source": [
    "# The results of two-sample t-test\n",
    "\n",
    "t_test"
   ]
  },
  {
   "cell_type": "markdown",
   "id": "9cdc0973-6e0e-4250-9199-4aab025148be",
   "metadata": {},
   "source": [
    "The t-test calculates a non-zero (estimate=12.08639) point estimate of the difference between the average life expectancies based on country status with a p-value (9.881313e-324) less than our 10% significance level. The very low p-value means that the probability of obtaining this point estimate under the null hypothesis is 9.881313e-322 % , therefore we have enough evidence to reject the null hypothesis and accept our alternative hypothesis as the point estimate calculated is greater than zero."
   ]
  },
  {
   "cell_type": "markdown",
   "id": "dbedbc30-efee-495b-9935-bf4a27affd47",
   "metadata": {},
   "source": [
    "# Estimating the difference in means using Central Limit Theorem"
   ]
  },
  {
   "cell_type": "code",
   "execution_count": 51,
   "id": "5c42f1ac-6a0f-4587-bb4f-55432b487527",
   "metadata": {},
   "outputs": [],
   "source": [
    "# Pull the life expectancy values from each category\n",
    "\n",
    "developed_life_values <- \n",
    "    life_developed %>%\n",
    "    pull(Life.expectancy)\n",
    "\n",
    "developing_life_values <- \n",
    "    life_developing %>%\n",
    "    pull(Life.expectancy)\n",
    "\n",
    "# Calculate the confidence interval for difference in means using CLT\n",
    "\n",
    "life_diff_means_ci <- \n",
    "    tibble(\n",
    "        lower_ci = mean(developed_life_values) - mean(developing_life_values) + \n",
    "                   qnorm(0.05,0,1) * sqrt(var(developed_life_values)/length(developed_life_values) +  #lower bound: 5th quantile\n",
    "                                          var(developing_life_values)/length(developing_life_values)),\n",
    "        upper_ci = mean(developed_life_values) - mean(developing_life_values) +\n",
    "                   qnorm(0.95,0,1) * sqrt(var(developed_life_values)/length(developed_life_values) +  #upper bound: 95th quantile\n",
    "                                          var(developing_life_values)/length(developing_life_values))\n",
    "    )"
   ]
  },
  {
   "cell_type": "code",
   "execution_count": 52,
   "id": "1bee5391-4bbb-4903-99d7-e300cc1ab05b",
   "metadata": {},
   "outputs": [
    {
     "data": {
      "text/html": [
       "<table class=\"dataframe\">\n",
       "<caption>A data.frame: 1 × 3</caption>\n",
       "<thead>\n",
       "\t<tr><th scope=col>point_estimate</th><th scope=col>lower_ci</th><th scope=col>upper_ci</th></tr>\n",
       "\t<tr><th scope=col>&lt;dbl&gt;</th><th scope=col>&lt;dbl&gt;</th><th scope=col>&lt;dbl&gt;</th></tr>\n",
       "</thead>\n",
       "<tbody>\n",
       "\t<tr><td>12.08639</td><td>11.67107</td><td>12.5017</td></tr>\n",
       "</tbody>\n",
       "</table>\n"
      ],
      "text/latex": [
       "A data.frame: 1 × 3\n",
       "\\begin{tabular}{lll}\n",
       " point\\_estimate & lower\\_ci & upper\\_ci\\\\\n",
       " <dbl> & <dbl> & <dbl>\\\\\n",
       "\\hline\n",
       "\t 12.08639 & 11.67107 & 12.5017\\\\\n",
       "\\end{tabular}\n"
      ],
      "text/markdown": [
       "\n",
       "A data.frame: 1 × 3\n",
       "\n",
       "| point_estimate &lt;dbl&gt; | lower_ci &lt;dbl&gt; | upper_ci &lt;dbl&gt; |\n",
       "|---|---|---|\n",
       "| 12.08639 | 11.67107 | 12.5017 |\n",
       "\n"
      ],
      "text/plain": [
       "  point_estimate lower_ci upper_ci\n",
       "1 12.08639       11.67107 12.5017 "
      ]
     },
     "metadata": {},
     "output_type": "display_data"
    }
   ],
   "source": [
    "# Result\n",
    "\n",
    "point_estimate<- tibble(point_estimate = mean(developed_life_values) - mean(developing_life_values))\n",
    "\n",
    "cbind(point_estimate,life_diff_means_ci)"
   ]
  },
  {
   "cell_type": "markdown",
   "id": "73ecb3af-cc81-4df7-9d9f-dc688d3ce4c6",
   "metadata": {},
   "source": [
    "Using the Central Limit Theorem, we are 90% confident that the true difference in average life expectancy between developed and developing countries (respectively), between 1922-2022, is between 11.67107 and 12.5017 years."
   ]
  },
  {
   "cell_type": "markdown",
   "id": "76e23eb0-6390-4c7f-a04b-107277ce015e",
   "metadata": {},
   "source": [
    "# Discussion"
   ]
  },
  {
   "cell_type": "markdown",
   "id": "17ad0d70-8289-4a31-9168-54432f9246f0",
   "metadata": {},
   "source": [
    "Through the t-test, we found that the possibility of equal life expectancy in developing countries and developed countries is significantly small (1.02819e-318), which favors the alternative hypothesis: life expectancy of developed countries is longer than developing countries in the past century (1922-2022). This result implicates the condition of the national economy and people’s lifespan has a strong positive relation，which is the same as what we expected in the proposal. Considering the p value of null hypothesis almost equals to zero, the life expectancy gap between two status countries truly exists. Through this study we can learn the vast differences in circumstances between developing and developed in the perspective of life expentancy. As our study only looks at the difference in average life expectancy between developed and developing countries in futures studies it would be interesting to put other factors such as healthcare index and finding the correlation with different factors and average life expectancy of a country. A later study could look into what the differences are between developing countries and developed countries that lead to different lifespans, and how these factors affect the length of life."
   ]
  },
  {
   "cell_type": "markdown",
   "id": "c1aeffae-9272-4678-a45d-bacd6a9c1803",
   "metadata": {},
   "source": [
    "# References\n",
    "Freeman, T., Gesesew, H. A., Bambra, C., Giugliani, E. R. J., Popay, J., Sanders, D., ... & Baum, F. (2020). Why do some countries do better or worse in life expectancy relative to income? An analysis of Brazil, Ethiopia, and the United States of America. International journal for equity in health, 19(1), 1-19.\n",
    "\n",
    "Preston, S. H. (1975). The changing relation between mortality and level of economic development. Population studies, 29(2), 231-248.\n",
    "\n",
    "W.H.O (2018, February 10). Life expectancy (WHO). Kaggle. Retrieved July 26, 2022, from https://www.kaggle.com/datasets/kumarajarshi/life-expectancy-who"
   ]
  },
  {
   "cell_type": "code",
   "execution_count": null,
   "id": "dd9b8b85-991c-46af-ac01-c66eee0aa8f6",
   "metadata": {},
   "outputs": [],
   "source": []
  }
 ],
 "metadata": {
  "kernelspec": {
   "display_name": "R",
   "language": "R",
   "name": "ir"
  },
  "language_info": {
   "codemirror_mode": "r",
   "file_extension": ".r",
   "mimetype": "text/x-r-source",
   "name": "R",
   "pygments_lexer": "r",
   "version": "4.1.2"
  }
 },
 "nbformat": 4,
 "nbformat_minor": 5
}
