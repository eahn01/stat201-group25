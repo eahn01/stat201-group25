{
 "cells": [
  {
   "cell_type": "markdown",
   "id": "4b71f978",
   "metadata": {},
   "source": [
    "<<<<<<< REMOTE CELL DELETED >>>>>>>\n",
    "# Method: Plan\n",
    "The integrity of our data can be supported by the following facts: our data covers a significant period of time (15 years), was collected fairly recently, and comes from a respected organization (World Health Organization). On the other hand, our results don’t take into account measurement error, variance in how the data was collected, how the definition of a developed/developing country might change over time, and how socioeconomic inequalities can worsen or lessen over time. And also, we are navigating the population for the 20 century. Our current preliminary findings are not sufficient to deliver to a stakeholder because our results don’t take into account sampling variability and this is especially important to take into account as the boxplot visual in our graph “Life Expectancy based on Country Status” displays that there is a significant overlap between the two ranges so it’s extremely important to conduct hypothesis testing at a 10% significance level and bootstrapping to verify that our results are as precise as possible. We chose bootstrapping over asymptotics as we do not have super large sample size that could meet the Law of Large Number, as well as the fact that as seen on figure 3 the developing distribution is right skewed. We are expecting to find the life expectancy in developed countries to be greater than in developing countries. Our findings would indicate a level of correlation between the condition of the national economy and lifespan. A later study could look into what the differences are between developing countries and developed countries that lead to different lifespans, and how these factors affect the length of life."
   ]
  },
  {
   "cell_type": "markdown",
   "id": "fa10c6d6",
   "metadata": {},
   "source": [
    "<<<<<<< REMOTE CELL DELETED >>>>>>>\n",
    "Using the Central Limit Theorem, we are 90% confident that the true difference in average life expectancy between developed and developing countries (respectively), between 1922-2022, is between 11.67107 and 12.5017 years."
   ]
  }
 ],
 "metadata": {},
 "nbformat": 4,
 "nbformat_minor": 5
}
