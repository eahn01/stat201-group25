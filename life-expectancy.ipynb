{
 "cells": [
  {
   "cell_type": "code",
   "execution_count": 1,
   "id": "a2446e7d-452d-41aa-b422-01082cca02ea",
   "metadata": {},
   "outputs": [
    {
     "name": "stderr",
     "output_type": "stream",
     "text": [
      "-- \u001b[1mAttaching packages\u001b[22m ----------------------------------- tidyverse 1.3.1 --\n",
      "\n",
      "\u001b[32mv\u001b[39m \u001b[34mggplot2\u001b[39m 3.3.5     \u001b[32mv\u001b[39m \u001b[34mpurrr  \u001b[39m 0.3.4\n",
      "\u001b[32mv\u001b[39m \u001b[34mtibble \u001b[39m 3.1.6     \u001b[32mv\u001b[39m \u001b[34mdplyr  \u001b[39m 1.0.7\n",
      "\u001b[32mv\u001b[39m \u001b[34mtidyr  \u001b[39m 1.1.4     \u001b[32mv\u001b[39m \u001b[34mstringr\u001b[39m 1.4.0\n",
      "\u001b[32mv\u001b[39m \u001b[34mreadr  \u001b[39m 2.1.1     \u001b[32mv\u001b[39m \u001b[34mforcats\u001b[39m 0.5.1\n",
      "\n",
      "-- \u001b[1mConflicts\u001b[22m -------------------------------------- tidyverse_conflicts() --\n",
      "\u001b[31mx\u001b[39m \u001b[34mdplyr\u001b[39m::\u001b[32mfilter()\u001b[39m masks \u001b[34mstats\u001b[39m::filter()\n",
      "\u001b[31mx\u001b[39m \u001b[34mdplyr\u001b[39m::\u001b[32mlag()\u001b[39m    masks \u001b[34mstats\u001b[39m::lag()\n",
      "\n"
     ]
    },
    {
     "ename": "ERROR",
     "evalue": "Error in library(datateachr): there is no package called 'datateachr'\n",
     "output_type": "error",
     "traceback": [
      "Error in library(datateachr): there is no package called 'datateachr'\nTraceback:\n",
      "1. library(datateachr)"
     ]
    }
   ],
   "source": [
    "# Packages\n",
    "library(cowplot)\n",
    "library(digest)\n",
    "library(infer)\n",
    "library(repr)\n",
    "library(tidyverse)\n",
    "library(dplyr)\n",
    "library(datateachr)"
   ]
  },
  {
   "cell_type": "markdown",
   "id": "e40757ba-52ae-4bfe-9990-63e6948a349e",
   "metadata": {},
   "source": [
    "# What is the difference in life expectancy between developed and developing countries?"
   ]
  },
  {
   "cell_type": "markdown",
   "id": "58eabca3-c86c-4d6d-89be-a4ea1d428609",
   "metadata": {},
   "source": [
    "# Introduction"
   ]
  },
  {
   "cell_type": "markdown",
   "id": "b40978e3-e505-40a5-85a2-ae09d7a89e53",
   "metadata": {},
   "source": [
    "A country's developed/developing status is mainly based on their GDP and living standards. To look at an example of how a countries status may effect it’s life expectancy: Ethiopa (a developing country) and the United States (a developed country). By comparing the living standards between Ethiopia and the US, Freeman (2020) finds out that the latter has longer life expectancy due to various factors like community-based health strategies, improving access to safe water, female education and gender empowerment, and so on. However, there is another view which deems that with the improvement of modern technology, the impact from factors like mortality has been overstated for earlier periods (Preston, 1975). This raises the question, is there a difference in life expectancy between developed and developing countries, if so is it significant? The random variable is life expectancy, the location parameter is mean, and the scale parameter is standard deviation. Our population is all countries, our dataset contains data, provided by the WHO, contains annual data observations from 2000-2015 of 193 countries. Each observation contains information on the country and year as well as socioeconomic (government spending, GDP, schooling, alcohol use) and health (BMI, immunizations, diseases) factors\n"
   ]
  },
  {
   "cell_type": "markdown",
   "id": "e5f99c83-ad52-464a-acfc-b1bd5673346b",
   "metadata": {},
   "source": [
    "# Preliminary Results"
   ]
  },
  {
   "cell_type": "code",
   "execution_count": null,
   "id": "1a87ae6f-a74c-48ac-9ed8-30a9f9705a38",
   "metadata": {},
   "outputs": [],
   "source": [
    "life_expectancy_df <- read.csv(file = 'https://raw.githubusercontent.com/eahn01/stat201-group25/main/data/life-expectancy.csv')\n",
    "head(life_expectancy_df)"
   ]
  },
  {
   "cell_type": "markdown",
   "id": "ded4db33-2bcc-497e-ac48-5f6b272a6ccb",
   "metadata": {},
   "source": [
    "First we split the data frame into two different data frames one containing developing countries, and the other containing developed countries and selected the columns needed which are country, year, status, life expectnacy. We also cleaned the dataset to filter out the N\\A values."
   ]
  },
  {
   "cell_type": "code",
   "execution_count": null,
   "id": "e11c07c6-1a16-4a8c-8bf9-8aefd33d6a76",
   "metadata": {},
   "outputs": [],
   "source": [
    "developing_le <- life_expectancy_df|> \n",
    "                 filter(!is.na(Life.expectancy))|> \n",
    "                 filter(Status == \"Developing\")|> \n",
    "                 select(Country, Year, Status, Life.expectancy)\n",
    "\n",
    "developed_le <- life_expectancy_df|> \n",
    "                 filter(!is.na(Life.expectancy))|> \n",
    "                 filter(Status == \"Developed\")|> \n",
    "                 select(Country, Year, Status, Life.expectancy)\n",
    "\n",
    "head(developing_le)\n",
    "head(developed_le)"
   ]
  },
  {
   "cell_type": "code",
   "execution_count": null,
   "id": "951b61a9-e0b4-47db-abfd-18ad3f83c69b",
   "metadata": {},
   "outputs": [],
   "source": [
    "developing_mean <- developing_le %>% \n",
    "                   summarize(mean_le = mean(Life.expectancy))|> \n",
    "                   as.numeric()\n",
    "\n",
    "developed_mean <- developed_le %>% \n",
    "                  summarize(mean_le = mean(Life.expectancy))|> \n",
    "                  as.numeric()\n",
    "developing_mean\n",
    "developed_mean"
   ]
  },
  {
   "cell_type": "code",
   "execution_count": null,
   "id": "2727aa58-e3a5-4411-af39-dea93db09233",
   "metadata": {},
   "outputs": [],
   "source": [
    "\n",
    "developing_sampling_dist <- developing_le %>% \n",
    "    group_by(Country) %>% \n",
    "    summarize(mean_le = mean(Life.expectancy)) %>% \n",
    "        ggplot(aes(x = mean_le)) +\n",
    "        geom_histogram(binwidth = 3, colour = \"white\") +\n",
    "        xlab(\"Life Expectancy in years\") +\n",
    "        ggtitle(\"Sample Mean of Developing Countries's Life Expectancy\") +\n",
    "        geom_vline(xintercept = developing_mean, colour = \"red\", size = 1) \n",
    "\n",
    "\n",
    "developed_sampling_dist <- developed_le %>% \n",
    "    group_by(Country) %>% \n",
    "    summarize(mean_le = mean(Life.expectancy)) %>% \n",
    "        ggplot(aes(x = mean_le)) +\n",
    "        geom_histogram(binwidth = 1, colour = \"white\") +\n",
    "        xlab(\"Life Expectancy in years\") +\n",
    "        ggtitle(\"Sample Mean of Developed Countries's Life Expectancy\") +\n",
    "        geom_vline(xintercept = developed_mean, colour = \"red\", size = 1) \n",
    "\n",
    "developing_sampling_dist\n",
    "developed_sampling_dist"
   ]
  },
  {
   "cell_type": "markdown",
   "id": "dc465c5c-c5f3-42a6-893e-0dfceec5dcb9",
   "metadata": {},
   "source": [
    "We are expected to find the life expectancy in developed countries is greater than developing countries by implying hypothesis test and bootstrapping. Our findings would indicate a level of correlation between the condition of the national economy and lifespan. A later study could look into what ae the differences are between developing countries and developed countries that lead to the different length of life, and how do these factors affect the length of life.# Methods: Plan"
   ]
  },
  {
   "cell_type": "markdown",
   "id": "1aded564-f1a8-44a9-bdec-f86bbf0b3016",
   "metadata": {},
   "source": [
    "We are expected to find the life expectancy in developed countries is greater than developing countries by implying hypothesis test and bootstrapping. Our findings would indicate a level of correlation between the condition of the national economy and lifespan. A later study could look into what ae the differences are between developing countries and developed countries that lead to the different length of life, and how do these factors affect the length of life."
   ]
  },
  {
   "cell_type": "markdown",
   "id": "0f309862-14a9-4151-8624-a614a82e8918",
   "metadata": {},
   "source": [
    "# References"
   ]
  },
  {
   "cell_type": "code",
   "execution_count": null,
   "id": "7ab628cc-cfbe-42c3-82f2-22f101f20d79",
   "metadata": {},
   "outputs": [],
   "source": [
    "- Freeman, T., Gesesew, H. A., Bambra, C., Giugliani, E. R. J., Popay, J., Sanders, D., ... & Baum, F. (2020). Why do some countries do better or worse in life expectancy relative to income? An analysis of Brazil, Ethiopia, and the United States of America. International journal for equity in health, 19(1), 1-19. \n",
    "\n",
    "- Preston, S. H. (1975). The changing relation between mortality and level of economic development. Population studies, 29(2), 231-248.\n"
   ]
  }
 ],
 "metadata": {
  "kernelspec": {
   "display_name": "R",
   "language": "R",
   "name": "ir"
  },
  "language_info": {
   "codemirror_mode": "r",
   "file_extension": ".r",
   "mimetype": "text/x-r-source",
   "name": "R",
   "pygments_lexer": "r",
   "version": "4.1.2"
  }
 },
 "nbformat": 4,
 "nbformat_minor": 5
}
